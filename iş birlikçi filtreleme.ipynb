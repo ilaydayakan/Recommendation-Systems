{
 "cells": [
  {
   "cell_type": "code",
   "execution_count": 1,
   "metadata": {},
   "outputs": [
    {
     "name": "stdout",
     "output_type": "stream",
     "text": [
      "Veriler sıralandı ve dosyaya kaydedildi.\n"
     ]
    }
   ],
   "source": [
    "import pandas as pd\n",
    "\n",
    "# Excel dosyalarını yükleyin\n",
    "file_path1 = r'C:\\Users\\ilayd\\OneDrive\\Masaüstü\\ffilm.xlsx'\n",
    "file_path2 = r'C:\\Users\\ilayd\\OneDrive\\Masaüstü\\filmm.xlsx'\n",
    "file_path3 = r'C:\\Users\\ilayd\\OneDrive\\Masaüstü\\movie.xlsx'\n",
    "\n",
    "# Dosyaların sayfalarını okuyun\n",
    "df1 = pd.read_excel(file_path1)\n",
    "df2 = pd.read_excel(file_path2)\n",
    "df3 = pd.read_excel(file_path3)\n",
    "\n",
    "# Üçüncü dosya (movie) ve ikinci dosyayı (filmm) movieId'ye göre birleştirin\n",
    "merged_df1 = pd.merge(df3, df2, on='movieId', how='left')\n",
    "\n",
    "# Şimdi bu birleştirilmiş DataFrame ile birinci dosyayı (ffilm) userId ve movieId'ye göre birleştirin\n",
    "final_merged_df = pd.merge(merged_df1, df1, on=['userId', 'movieId'], how='left')\n",
    "\n",
    "# Eksik userId'leri belirleyin\n",
    "# Eksik userId'leri belirlemek için, df3'te bulunan userId'leri final_merged_df'de ararız\n",
    "missing_user_ids = df3[~df3['userId'].isin(final_merged_df['userId'])]\n",
    "\n",
    "# Eksik userId'lerin eksik olduğu satırları belirleyin\n",
    "if not missing_user_ids.empty:\n",
    "    print(\"Eksik olan userId'ler:\")\n",
    "    print(missing_user_ids)\n",
    "    \n",
    "    # Eksik olan userId'leri ayrı bir Excel dosyasına kaydedin\n",
    "    missing_user_ids.to_excel(r'C:\\Users\\ilayd\\OneDrive\\Masaüstü\\missing_user_ids.xlsx', index=False)\n",
    "\n",
    "# Verileri userId'ye göre sıralayın\n",
    "sorted_df = final_merged_df.sort_values(by='userId')\n",
    "\n",
    "# Sonuçları yeni bir Excel dosyasına kaydedin\n",
    "sorted_df.to_excel(r'C:\\Users\\ilayd\\OneDrive\\Masaüstü\\final_merged_output.xlsx', index=False)\n",
    "\n",
    "print(\"Veriler sıralandı ve dosyaya kaydedildi.\")"
   ]
  },
  {
   "cell_type": "code",
   "execution_count": 2,
   "metadata": {},
   "outputs": [
    {
     "data": {
      "text/html": [
       "<div>\n",
       "<style scoped>\n",
       "    .dataframe tbody tr th:only-of-type {\n",
       "        vertical-align: middle;\n",
       "    }\n",
       "\n",
       "    .dataframe tbody tr th {\n",
       "        vertical-align: top;\n",
       "    }\n",
       "\n",
       "    .dataframe thead th {\n",
       "        text-align: right;\n",
       "    }\n",
       "</style>\n",
       "<table border=\"1\" class=\"dataframe\">\n",
       "  <thead>\n",
       "    <tr style=\"text-align: right;\">\n",
       "      <th></th>\n",
       "      <th>userId</th>\n",
       "      <th>movieId</th>\n",
       "      <th>rating</th>\n",
       "      <th>timestamp_x</th>\n",
       "      <th>title</th>\n",
       "      <th>genres</th>\n",
       "      <th>tag</th>\n",
       "      <th>timestamp_y</th>\n",
       "    </tr>\n",
       "  </thead>\n",
       "  <tbody>\n",
       "    <tr>\n",
       "      <th>0</th>\n",
       "      <td>1</td>\n",
       "      <td>1</td>\n",
       "      <td>40</td>\n",
       "      <td>964982703</td>\n",
       "      <td>Toy Story (1995)</td>\n",
       "      <td>Adventure|Animation|Children|Comedy|Fantasy</td>\n",
       "      <td>NaN</td>\n",
       "      <td>NaN</td>\n",
       "    </tr>\n",
       "    <tr>\n",
       "      <th>147</th>\n",
       "      <td>1</td>\n",
       "      <td>2329</td>\n",
       "      <td>50</td>\n",
       "      <td>964983263</td>\n",
       "      <td>American History X (1998)</td>\n",
       "      <td>Crime|Drama</td>\n",
       "      <td>NaN</td>\n",
       "      <td>NaN</td>\n",
       "    </tr>\n",
       "    <tr>\n",
       "      <th>148</th>\n",
       "      <td>1</td>\n",
       "      <td>2338</td>\n",
       "      <td>20</td>\n",
       "      <td>964983546</td>\n",
       "      <td>I Still Know What You Did Last Summer (1998)</td>\n",
       "      <td>Horror|Mystery|Thriller</td>\n",
       "      <td>NaN</td>\n",
       "      <td>NaN</td>\n",
       "    </tr>\n",
       "    <tr>\n",
       "      <th>149</th>\n",
       "      <td>1</td>\n",
       "      <td>2353</td>\n",
       "      <td>50</td>\n",
       "      <td>964983861</td>\n",
       "      <td>Enemy of the State (1998)</td>\n",
       "      <td>Action|Thriller</td>\n",
       "      <td>NaN</td>\n",
       "      <td>NaN</td>\n",
       "    </tr>\n",
       "    <tr>\n",
       "      <th>150</th>\n",
       "      <td>1</td>\n",
       "      <td>2366</td>\n",
       "      <td>40</td>\n",
       "      <td>964982462</td>\n",
       "      <td>King Kong (1933)</td>\n",
       "      <td>Action|Adventure|Fantasy|Horror</td>\n",
       "      <td>NaN</td>\n",
       "      <td>NaN</td>\n",
       "    </tr>\n",
       "  </tbody>\n",
       "</table>\n",
       "</div>"
      ],
      "text/plain": [
       "     userId  movieId  rating  timestamp_x  \\\n",
       "0         1        1      40    964982703   \n",
       "147       1     2329      50    964983263   \n",
       "148       1     2338      20    964983546   \n",
       "149       1     2353      50    964983861   \n",
       "150       1     2366      40    964982462   \n",
       "\n",
       "                                            title  \\\n",
       "0                                Toy Story (1995)   \n",
       "147                     American History X (1998)   \n",
       "148  I Still Know What You Did Last Summer (1998)   \n",
       "149                     Enemy of the State (1998)   \n",
       "150                              King Kong (1933)   \n",
       "\n",
       "                                          genres  tag  timestamp_y  \n",
       "0    Adventure|Animation|Children|Comedy|Fantasy  NaN          NaN  \n",
       "147                                  Crime|Drama  NaN          NaN  \n",
       "148                      Horror|Mystery|Thriller  NaN          NaN  \n",
       "149                              Action|Thriller  NaN          NaN  \n",
       "150              Action|Adventure|Fantasy|Horror  NaN          NaN  "
      ]
     },
     "execution_count": 2,
     "metadata": {},
     "output_type": "execute_result"
    }
   ],
   "source": [
    "# İlk 5 satırı bul\n",
    "sorted_df.head()"
   ]
  },
  {
   "cell_type": "code",
   "execution_count": 3,
   "metadata": {},
   "outputs": [
    {
     "data": {
      "text/html": [
       "<div>\n",
       "<style scoped>\n",
       "    .dataframe tbody tr th:only-of-type {\n",
       "        vertical-align: middle;\n",
       "    }\n",
       "\n",
       "    .dataframe tbody tr th {\n",
       "        vertical-align: top;\n",
       "    }\n",
       "\n",
       "    .dataframe thead th {\n",
       "        text-align: right;\n",
       "    }\n",
       "</style>\n",
       "<table border=\"1\" class=\"dataframe\">\n",
       "  <thead>\n",
       "    <tr style=\"text-align: right;\">\n",
       "      <th></th>\n",
       "      <th>userId</th>\n",
       "      <th>movieId</th>\n",
       "      <th>rating</th>\n",
       "      <th>timestamp_x</th>\n",
       "      <th>title</th>\n",
       "      <th>genres</th>\n",
       "      <th>tag</th>\n",
       "      <th>timestamp_y</th>\n",
       "    </tr>\n",
       "  </thead>\n",
       "  <tbody>\n",
       "    <tr>\n",
       "      <th>101804</th>\n",
       "      <td>610</td>\n",
       "      <td>6387</td>\n",
       "      <td>35</td>\n",
       "      <td>1479542038</td>\n",
       "      <td>Once a Thief (Zong heng si hai) (1991)</td>\n",
       "      <td>Action|Comedy|Crime|Thriller</td>\n",
       "      <td>NaN</td>\n",
       "      <td>NaN</td>\n",
       "    </tr>\n",
       "    <tr>\n",
       "      <th>101803</th>\n",
       "      <td>610</td>\n",
       "      <td>6383</td>\n",
       "      <td>25</td>\n",
       "      <td>1493846084</td>\n",
       "      <td>2 Fast 2 Furious (Fast and the Furious 2, The)...</td>\n",
       "      <td>Action|Crime|Thriller</td>\n",
       "      <td>NaN</td>\n",
       "      <td>NaN</td>\n",
       "    </tr>\n",
       "    <tr>\n",
       "      <th>101802</th>\n",
       "      <td>610</td>\n",
       "      <td>6378</td>\n",
       "      <td>35</td>\n",
       "      <td>1493844983</td>\n",
       "      <td>Italian Job, The (2003)</td>\n",
       "      <td>Action|Crime</td>\n",
       "      <td>NaN</td>\n",
       "      <td>NaN</td>\n",
       "    </tr>\n",
       "    <tr>\n",
       "      <th>101820</th>\n",
       "      <td>610</td>\n",
       "      <td>6708</td>\n",
       "      <td>35</td>\n",
       "      <td>1493847441</td>\n",
       "      <td>Matchstick Men (2003)</td>\n",
       "      <td>Comedy|Crime|Drama</td>\n",
       "      <td>NaN</td>\n",
       "      <td>NaN</td>\n",
       "    </tr>\n",
       "    <tr>\n",
       "      <th>102676</th>\n",
       "      <td>610</td>\n",
       "      <td>170875</td>\n",
       "      <td>30</td>\n",
       "      <td>1493846415</td>\n",
       "      <td>The Fate of the Furious (2017)</td>\n",
       "      <td>Action|Crime|Drama|Thriller</td>\n",
       "      <td>NaN</td>\n",
       "      <td>NaN</td>\n",
       "    </tr>\n",
       "  </tbody>\n",
       "</table>\n",
       "</div>"
      ],
      "text/plain": [
       "        userId  movieId  rating  timestamp_x  \\\n",
       "101804     610     6387      35   1479542038   \n",
       "101803     610     6383      25   1493846084   \n",
       "101802     610     6378      35   1493844983   \n",
       "101820     610     6708      35   1493847441   \n",
       "102676     610   170875      30   1493846415   \n",
       "\n",
       "                                                    title  \\\n",
       "101804             Once a Thief (Zong heng si hai) (1991)   \n",
       "101803  2 Fast 2 Furious (Fast and the Furious 2, The)...   \n",
       "101802                            Italian Job, The (2003)   \n",
       "101820                              Matchstick Men (2003)   \n",
       "102676                     The Fate of the Furious (2017)   \n",
       "\n",
       "                              genres  tag  timestamp_y  \n",
       "101804  Action|Comedy|Crime|Thriller  NaN          NaN  \n",
       "101803         Action|Crime|Thriller  NaN          NaN  \n",
       "101802                  Action|Crime  NaN          NaN  \n",
       "101820            Comedy|Crime|Drama  NaN          NaN  \n",
       "102676   Action|Crime|Drama|Thriller  NaN          NaN  "
      ]
     },
     "execution_count": 3,
     "metadata": {},
     "output_type": "execute_result"
    }
   ],
   "source": [
    "# Son 5 satırı bul\n",
    "sorted_df.tail()"
   ]
  },
  {
   "cell_type": "code",
   "execution_count": 4,
   "metadata": {},
   "outputs": [
    {
     "name": "stdout",
     "output_type": "stream",
     "text": [
      "                                       title  comment_count\n",
      "0                        Pulp Fiction (1994)            484\n",
      "1                        Forrest Gump (1994)            335\n",
      "2           Shawshank Redemption, The (1994)            319\n",
      "3           Silence of the Lambs, The (1991)            283\n",
      "4                         Matrix, The (1999)            280\n",
      "5                          Fight Club (1999)            268\n",
      "6  Star Wars: Episode IV - A New Hope (1977)            262\n",
      "7                          Braveheart (1995)            245\n",
      "8                       Jurassic Park (1993)            238\n",
      "9          Terminator 2: Judgment Day (1991)            229\n"
     ]
    }
   ],
   "source": [
    "# Filmlerin yorum sayılarının belirlenmesi\n",
    "# (sorted_df veri setinde \"title\" sütunundaki her bir başlığın kaç kez tekrarlandığını hesaplar\n",
    "# Sütunları yeniden adlandırır; 'index' aslında film başlığıdır, 'title' ise bu başlığın kaç kez tekrarlandığını gösterir)\n",
    "\n",
    "comment_counts = pd.DataFrame(sorted_df[\"title\"].value_counts()).reset_index()\n",
    "comment_counts.columns = ['title', 'comment_count']\n",
    "\n",
    "# Yorum sayısına göre 10 film\n",
    "print(comment_counts.head(10)) "
   ]
  },
  {
   "cell_type": "code",
   "execution_count": 5,
   "metadata": {},
   "outputs": [
    {
     "name": "stdout",
     "output_type": "stream",
     "text": [
      "Yorum sayısı 100'den fazla olan film sayısı: 137\n",
      "     userId  movieId  rating  timestamp_x  \\\n",
      "0         1        1      40    964982703   \n",
      "147       1     2329      50    964983263   \n",
      "166       1     2571      50    964981888   \n",
      "171       1     2628      40    964980523   \n",
      "121       1     2028      40    964981888   \n",
      "\n",
      "                                                title  \\\n",
      "0                                    Toy Story (1995)   \n",
      "147                         American History X (1998)   \n",
      "166                                Matrix, The (1999)   \n",
      "171  Star Wars: Episode I - The Phantom Menace (1999)   \n",
      "121                        Saving Private Ryan (1998)   \n",
      "\n",
      "                                          genres  tag  timestamp_y  \n",
      "0    Adventure|Animation|Children|Comedy|Fantasy  NaN          NaN  \n",
      "147                                  Crime|Drama  NaN          NaN  \n",
      "166                       Action|Sci-Fi|Thriller  NaN          NaN  \n",
      "171                      Action|Adventure|Sci-Fi  NaN          NaN  \n",
      "121                             Action|Drama|War  NaN          NaN  \n"
     ]
    }
   ],
   "source": [
    "# Az yorum alan filmlerin belirlenmesi (örneğin, 100'den az yorum alan filmler)\n",
    "rare_movies = comment_counts[comment_counts[\"comment_count\"] <= 100][\"title\"]\n",
    "\n",
    "# Az yorum alan filmlerin çıkartılması\n",
    "common_movies = sorted_df[~sorted_df[\"title\"].isin(rare_movies)]\n",
    "\n",
    "# Sonuçları kontrol edin\n",
    "print(f\"Yorum sayısı 100'den fazla olan film sayısı: {common_movies['title'].nunique()}\")\n",
    "print(common_movies.head())"
   ]
  },
  {
   "cell_type": "code",
   "execution_count": 6,
   "metadata": {},
   "outputs": [
    {
     "data": {
      "text/html": [
       "<div>\n",
       "<style scoped>\n",
       "    .dataframe tbody tr th:only-of-type {\n",
       "        vertical-align: middle;\n",
       "    }\n",
       "\n",
       "    .dataframe tbody tr th {\n",
       "        vertical-align: top;\n",
       "    }\n",
       "\n",
       "    .dataframe thead th {\n",
       "        text-align: right;\n",
       "    }\n",
       "</style>\n",
       "<table border=\"1\" class=\"dataframe\">\n",
       "  <thead>\n",
       "    <tr style=\"text-align: right;\">\n",
       "      <th>title</th>\n",
       "      <th>2001: A Space Odyssey (1968)</th>\n",
       "      <th>Ace Ventura: Pet Detective (1994)</th>\n",
       "      <th>Aladdin (1992)</th>\n",
       "      <th>Alien (1979)</th>\n",
       "      <th>Aliens (1986)</th>\n",
       "      <th>Amelie (Fabuleux destin d'AmÃ©lie Poulain, Le) (2001)</th>\n",
       "      <th>American Beauty (1999)</th>\n",
       "      <th>American History X (1998)</th>\n",
       "      <th>American Pie (1999)</th>\n",
       "      <th>Apocalypse Now (1979)</th>\n",
       "      <th>...</th>\n",
       "      <th>True Lies (1994)</th>\n",
       "      <th>Truman Show, The (1998)</th>\n",
       "      <th>Twelve Monkeys (a.k.a. 12 Monkeys) (1995)</th>\n",
       "      <th>Twister (1996)</th>\n",
       "      <th>Up (2009)</th>\n",
       "      <th>Usual Suspects, The (1995)</th>\n",
       "      <th>WALLÂ·E (2008)</th>\n",
       "      <th>Waterworld (1995)</th>\n",
       "      <th>Willy Wonka &amp; the Chocolate Factory (1971)</th>\n",
       "      <th>X-Men (2000)</th>\n",
       "    </tr>\n",
       "    <tr>\n",
       "      <th>userId</th>\n",
       "      <th></th>\n",
       "      <th></th>\n",
       "      <th></th>\n",
       "      <th></th>\n",
       "      <th></th>\n",
       "      <th></th>\n",
       "      <th></th>\n",
       "      <th></th>\n",
       "      <th></th>\n",
       "      <th></th>\n",
       "      <th></th>\n",
       "      <th></th>\n",
       "      <th></th>\n",
       "      <th></th>\n",
       "      <th></th>\n",
       "      <th></th>\n",
       "      <th></th>\n",
       "      <th></th>\n",
       "      <th></th>\n",
       "      <th></th>\n",
       "      <th></th>\n",
       "    </tr>\n",
       "  </thead>\n",
       "  <tbody>\n",
       "    <tr>\n",
       "      <th>1</th>\n",
       "      <td>NaN</td>\n",
       "      <td>NaN</td>\n",
       "      <td>NaN</td>\n",
       "      <td>40.0</td>\n",
       "      <td>NaN</td>\n",
       "      <td>NaN</td>\n",
       "      <td>50.0</td>\n",
       "      <td>50.0</td>\n",
       "      <td>NaN</td>\n",
       "      <td>40.0</td>\n",
       "      <td>...</td>\n",
       "      <td>NaN</td>\n",
       "      <td>NaN</td>\n",
       "      <td>NaN</td>\n",
       "      <td>30.0</td>\n",
       "      <td>NaN</td>\n",
       "      <td>50.0</td>\n",
       "      <td>NaN</td>\n",
       "      <td>NaN</td>\n",
       "      <td>50.0</td>\n",
       "      <td>50.0</td>\n",
       "    </tr>\n",
       "    <tr>\n",
       "      <th>2</th>\n",
       "      <td>NaN</td>\n",
       "      <td>NaN</td>\n",
       "      <td>NaN</td>\n",
       "      <td>NaN</td>\n",
       "      <td>NaN</td>\n",
       "      <td>NaN</td>\n",
       "      <td>NaN</td>\n",
       "      <td>NaN</td>\n",
       "      <td>NaN</td>\n",
       "      <td>NaN</td>\n",
       "      <td>...</td>\n",
       "      <td>NaN</td>\n",
       "      <td>NaN</td>\n",
       "      <td>NaN</td>\n",
       "      <td>NaN</td>\n",
       "      <td>NaN</td>\n",
       "      <td>NaN</td>\n",
       "      <td>NaN</td>\n",
       "      <td>NaN</td>\n",
       "      <td>NaN</td>\n",
       "      <td>NaN</td>\n",
       "    </tr>\n",
       "    <tr>\n",
       "      <th>3</th>\n",
       "      <td>NaN</td>\n",
       "      <td>NaN</td>\n",
       "      <td>NaN</td>\n",
       "      <td>NaN</td>\n",
       "      <td>NaN</td>\n",
       "      <td>NaN</td>\n",
       "      <td>NaN</td>\n",
       "      <td>NaN</td>\n",
       "      <td>NaN</td>\n",
       "      <td>NaN</td>\n",
       "      <td>...</td>\n",
       "      <td>NaN</td>\n",
       "      <td>NaN</td>\n",
       "      <td>NaN</td>\n",
       "      <td>NaN</td>\n",
       "      <td>NaN</td>\n",
       "      <td>NaN</td>\n",
       "      <td>NaN</td>\n",
       "      <td>NaN</td>\n",
       "      <td>NaN</td>\n",
       "      <td>NaN</td>\n",
       "    </tr>\n",
       "    <tr>\n",
       "      <th>4</th>\n",
       "      <td>NaN</td>\n",
       "      <td>NaN</td>\n",
       "      <td>40.0</td>\n",
       "      <td>NaN</td>\n",
       "      <td>NaN</td>\n",
       "      <td>NaN</td>\n",
       "      <td>50.0</td>\n",
       "      <td>NaN</td>\n",
       "      <td>NaN</td>\n",
       "      <td>NaN</td>\n",
       "      <td>...</td>\n",
       "      <td>NaN</td>\n",
       "      <td>NaN</td>\n",
       "      <td>20.0</td>\n",
       "      <td>NaN</td>\n",
       "      <td>NaN</td>\n",
       "      <td>NaN</td>\n",
       "      <td>NaN</td>\n",
       "      <td>NaN</td>\n",
       "      <td>40.0</td>\n",
       "      <td>NaN</td>\n",
       "    </tr>\n",
       "    <tr>\n",
       "      <th>5</th>\n",
       "      <td>NaN</td>\n",
       "      <td>30.0</td>\n",
       "      <td>40.0</td>\n",
       "      <td>NaN</td>\n",
       "      <td>NaN</td>\n",
       "      <td>NaN</td>\n",
       "      <td>NaN</td>\n",
       "      <td>NaN</td>\n",
       "      <td>NaN</td>\n",
       "      <td>NaN</td>\n",
       "      <td>...</td>\n",
       "      <td>20.0</td>\n",
       "      <td>NaN</td>\n",
       "      <td>NaN</td>\n",
       "      <td>NaN</td>\n",
       "      <td>NaN</td>\n",
       "      <td>40.0</td>\n",
       "      <td>NaN</td>\n",
       "      <td>NaN</td>\n",
       "      <td>NaN</td>\n",
       "      <td>NaN</td>\n",
       "    </tr>\n",
       "  </tbody>\n",
       "</table>\n",
       "<p>5 rows × 137 columns</p>\n",
       "</div>"
      ],
      "text/plain": [
       "title   2001: A Space Odyssey (1968)  Ace Ventura: Pet Detective (1994)  \\\n",
       "userId                                                                    \n",
       "1                                NaN                                NaN   \n",
       "2                                NaN                                NaN   \n",
       "3                                NaN                                NaN   \n",
       "4                                NaN                                NaN   \n",
       "5                                NaN                               30.0   \n",
       "\n",
       "title   Aladdin (1992)  Alien (1979)  Aliens (1986)  \\\n",
       "userId                                                \n",
       "1                  NaN          40.0            NaN   \n",
       "2                  NaN           NaN            NaN   \n",
       "3                  NaN           NaN            NaN   \n",
       "4                 40.0           NaN            NaN   \n",
       "5                 40.0           NaN            NaN   \n",
       "\n",
       "title   Amelie (Fabuleux destin d'AmÃ©lie Poulain, Le) (2001)  \\\n",
       "userId                                                          \n",
       "1                                                     NaN       \n",
       "2                                                     NaN       \n",
       "3                                                     NaN       \n",
       "4                                                     NaN       \n",
       "5                                                     NaN       \n",
       "\n",
       "title   American Beauty (1999)  American History X (1998)  \\\n",
       "userId                                                      \n",
       "1                         50.0                       50.0   \n",
       "2                          NaN                        NaN   \n",
       "3                          NaN                        NaN   \n",
       "4                         50.0                        NaN   \n",
       "5                          NaN                        NaN   \n",
       "\n",
       "title   American Pie (1999)  Apocalypse Now (1979)  ...  True Lies (1994)  \\\n",
       "userId                                              ...                     \n",
       "1                       NaN                   40.0  ...               NaN   \n",
       "2                       NaN                    NaN  ...               NaN   \n",
       "3                       NaN                    NaN  ...               NaN   \n",
       "4                       NaN                    NaN  ...               NaN   \n",
       "5                       NaN                    NaN  ...              20.0   \n",
       "\n",
       "title   Truman Show, The (1998)  Twelve Monkeys (a.k.a. 12 Monkeys) (1995)  \\\n",
       "userId                                                                       \n",
       "1                           NaN                                        NaN   \n",
       "2                           NaN                                        NaN   \n",
       "3                           NaN                                        NaN   \n",
       "4                           NaN                                       20.0   \n",
       "5                           NaN                                        NaN   \n",
       "\n",
       "title   Twister (1996)  Up (2009)  Usual Suspects, The (1995)  WALLÂ·E (2008)  \\\n",
       "userId                                                                          \n",
       "1                 30.0        NaN                        50.0             NaN   \n",
       "2                  NaN        NaN                         NaN             NaN   \n",
       "3                  NaN        NaN                         NaN             NaN   \n",
       "4                  NaN        NaN                         NaN             NaN   \n",
       "5                  NaN        NaN                        40.0             NaN   \n",
       "\n",
       "title   Waterworld (1995)  Willy Wonka & the Chocolate Factory (1971)  \\\n",
       "userId                                                                  \n",
       "1                     NaN                                        50.0   \n",
       "2                     NaN                                         NaN   \n",
       "3                     NaN                                         NaN   \n",
       "4                     NaN                                        40.0   \n",
       "5                     NaN                                         NaN   \n",
       "\n",
       "title   X-Men (2000)  \n",
       "userId                \n",
       "1               50.0  \n",
       "2                NaN  \n",
       "3                NaN  \n",
       "4                NaN  \n",
       "5                NaN  \n",
       "\n",
       "[5 rows x 137 columns]"
      ]
     },
     "execution_count": 6,
     "metadata": {},
     "output_type": "execute_result"
    }
   ],
   "source": [
    "#Kullanıcı Film matrisinin oluşturulma\n",
    "user_movie_df = common_movies.pivot_table(index=[\"userId\"], columns=[\"title\"], values=\"rating\")\n",
    "\n",
    "user_movie_df.head()"
   ]
  },
  {
   "cell_type": "code",
   "execution_count": 7,
   "metadata": {},
   "outputs": [
    {
     "data": {
      "text/plain": [
       "title\n",
       "X-Men (2000)                                                        1.000000\n",
       "Star Trek: Generations (1994)                                       0.571793\n",
       "Batman Begins (2005)                                                0.475671\n",
       "Harry Potter and the Chamber of Secrets (2002)                      0.473868\n",
       "Men in Black (a.k.a. MIB) (1997)                                    0.472008\n",
       "Spider-Man (2002)                                                   0.464925\n",
       "Stargate (1994)                                                     0.455950\n",
       "Die Hard: With a Vengeance (1995)                                   0.454682\n",
       "Jurassic Park (1993)                                                0.448910\n",
       "LÃ©on: The Professional (a.k.a. The Professional) (LÃ©on) (1994)    0.445207\n",
       "dtype: float64"
      ]
     },
     "execution_count": 7,
     "metadata": {},
     "output_type": "execute_result"
    }
   ],
   "source": [
    "#Birincil filmin belirlenmesi\n",
    "movie_name = \"X-Men (2000)\"\n",
    "\n",
    "#Filmin seçilmesi\n",
    "movie_name = user_movie_df[movie_name]\n",
    "\n",
    "#Film ile korelasyonu en yüksek olan filmlerin sıralanması\n",
    "user_movie_df.corrwith(movie_name).sort_values(ascending=False).head(10)"
   ]
  },
  {
   "cell_type": "code",
   "execution_count": 8,
   "metadata": {},
   "outputs": [
    {
     "data": {
      "text/plain": [
       "title\n",
       "Crouching Tiger, Hidden Dragon (Wo hu cang long) (2000)    1.000000\n",
       "Ocean's Eleven (2001)                                      0.524170\n",
       "American Beauty (1999)                                     0.493370\n",
       "Fargo (1996)                                               0.490577\n",
       "Monty Python and the Holy Grail (1975)                     0.471258\n",
       "Amelie (Fabuleux destin d'AmÃ©lie Poulain, Le) (2001)      0.467587\n",
       "Kill Bill: Vol. 1 (2003)                                   0.446411\n",
       "Ghostbusters (a.k.a. Ghost Busters) (1984)                 0.427393\n",
       "Princess Bride, The (1987)                                 0.423259\n",
       "One Flew Over the Cuckoo's Nest (1975)                     0.421177\n",
       "dtype: float64"
      ]
     },
     "execution_count": 8,
     "metadata": {},
     "output_type": "execute_result"
    }
   ],
   "source": [
    "#Rastgele bir film için işlemin yapılması\n",
    "movie_name = pd.Series(user_movie_df.columns).sample(1).values[0]\n",
    "movie_name = user_movie_df[movie_name]\n",
    "user_movie_df.corrwith(movie_name).sort_values(ascending=False).head(10)"
   ]
  },
  {
   "cell_type": "code",
   "execution_count": 9,
   "metadata": {},
   "outputs": [
    {
     "data": {
      "text/plain": [
       "['Star Wars: Episode I - The Phantom Menace (1999)',\n",
       " 'Star Wars: Episode IV - A New Hope (1977)',\n",
       " 'Star Wars: Episode V - The Empire Strikes Back (1980)',\n",
       " 'Star Wars: Episode VI - Return of the Jedi (1983)']"
      ]
     },
     "execution_count": 9,
     "metadata": {},
     "output_type": "execute_result"
    }
   ],
   "source": [
    "#Eğer filmin ismi tam olarak bilinmiyorsa\n",
    "def check_film(keyword, user_movie_df):\n",
    "    return [col for col in user_movie_df.columns if keyword in col]\n",
    "\n",
    "check_film(\"Star Wars\", user_movie_df)"
   ]
  },
  {
   "cell_type": "code",
   "execution_count": 11,
   "metadata": {},
   "outputs": [],
   "source": [
    "##Kullanıcı Tabanlı İş Birlikçi Filtreleme"
   ]
  },
  {
   "cell_type": "code",
   "execution_count": 10,
   "metadata": {},
   "outputs": [],
   "source": [
    "#Kütüphanelerin yüklenmesi\n",
    "import pandas as pd\n",
    "pd.set_option('display.max_columns', None) #Veri çerçevesi görüntülendiğinde tüm sütunların gösterilmesini sağlar.\n",
    "pd.set_option('display.width', 15) #Veri çerçevesi görüntülenirken, konsolda kullanılan toplam genişliği ayarlar. Bu örnekte, genişlik 15 karakter olarak belirlenmiş.\n",
    "pd.set_option('display.expand_frame_repr', False) #Veri çerçevesinin çok geniş olduğunda satırların bölünerek gösterilmesini engeller.\n",
    "import numpy as np"
   ]
  },
  {
   "cell_type": "code",
   "execution_count": 11,
   "metadata": {},
   "outputs": [],
   "source": [
    "# Excel dosyasının okunması\n",
    "df = pd.read_excel(r'C:\\Users\\ilayd\\OneDrive\\Masaüstü\\Film.xlsx')"
   ]
  },
  {
   "cell_type": "code",
   "execution_count": 12,
   "metadata": {},
   "outputs": [
    {
     "data": {
      "text/plain": [
       "<bound method NDFrame.head of            ID                              Title                        Original Title                                           Overview Release Date  Popularity  Vote Average  Vote Count                            Genres  UserId\n",
       "0      533535               Deadpool & Wolverine                  Deadpool & Wolverine  Bütün sevdiklerini ve dünyasını tehdit eden bü...   2024-07-24    9866.173         7.785        2057      Aksiyon, Komedi, Bilim-Kurgu       1\n",
       "1      718821                         Kasırgalar                              Twisters  Fırtına mevsimi yoğunlaştıkça, daha önce hiç g...   2024-07-10    4687.952         7.098         848    Aksiyon, Macera, Dram, Gerilim       1\n",
       "2     1022789                         Ters Yüz 2                          Inside Out 2  Genç Riley'nin zihin merkezi, beklenmedik bir ...   2024-06-11    3210.402         7.602        2435   Animasyon, Aile, Macera, Komedi       1\n",
       "3      519182                    Çılgın Hırsız 4                       Despicable Me 4  Gru ve Lucy ile kızları Margo, Edith ve Agnes'...   2024-06-20    3270.437         7.325        1096  Animasyon, Aile, Komedi, Aksiyon       1\n",
       "4      573435            Bad Boys: Ya Hep Ya Hiç                 Bad Boys: Ride or Die  Yüzbaşı Howard haksız yere uyuşturucuyla ilgil...   2024-06-05    2973.442         7.615        1601     Aksiyon, Suç, Gerilim, Komedi       1\n",
       "...       ...                                ...                                   ...                                                ...          ...         ...           ...         ...                               ...     ...\n",
       "1495    37169                     İnsan Kırkayak  The Human Centipede (First Sequence)  Amerikalı iki genç kız Avrupa tatiline çıkarla...   2009-10-31      53.126         5.200        2120                             Korku      28\n",
       "1496  1032448                  Jurassic Triangle                     Jurassic Triangle                                                NaN   2024-02-13      71.152         1.300           3       Korku, Aksiyon, Bilim-Kurgu      28\n",
       "1497    59440                        Büyük Dövüş                               Warrior  Trajik bir geçmişin kovaladığı eski bir denizc...   2011-09-09      71.149         7.848        4446                     Dram, Aksiyon      28\n",
       "1498   974036                   Sıradan Melekler                       Ordinary Angels  Kentucky'nin küçük bir kasabasında, iki kızını...   2024-02-22      71.116         7.903         150                              Dram      28\n",
       "1499  1027073  In the Land of Saints and Sinners     In the Land of Saints and Sinners                                                NaN   2023-10-06      53.425         6.581         314                  Aksiyon, Gerilim      28\n",
       "\n",
       "[1500 rows x 10 columns]>"
      ]
     },
     "execution_count": 12,
     "metadata": {},
     "output_type": "execute_result"
    }
   ],
   "source": [
    "#İlk 5 satıra bak\n",
    "df.head"
   ]
  },
  {
   "cell_type": "code",
   "execution_count": 13,
   "metadata": {},
   "outputs": [
    {
     "name": "stdout",
     "output_type": "stream",
     "text": [
      "Çok Yorum Alan Filmler ve Yorum Sayıları (Yorum Sayısına Göre Sıralı):\n",
      "                                Title  Vote Count\n",
      "91                             Avatar       62321\n",
      "406                    Geleceğe Dönüş       39194\n",
      "147                         Başlangıç       36142\n",
      "1232                   Yıldızlararası       34950\n",
      "108   Açlık Oyunları: Ateşi Yakalamak       34178\n"
     ]
    }
   ],
   "source": [
    "# Her film için toplam yorum sayısını (oy sayısını) hesapla\n",
    "comment_counts = df[['Title', 'Vote Count']].groupby('Title').sum().reset_index()\n",
    "# 100'den fazla oy sayısına sahip filmleri belirle\n",
    "common_movies = comment_counts[comment_counts['Vote Count'] > 100]\n",
    "\n",
    "# Çok yorum alan filmleri yorum sayısına göre azalan sırada sıralama\n",
    "common_movies_sorted = common_movies.sort_values(by='Vote Count', ascending=False)\n",
    "\n",
    "# Çok yorum alan filmleri ve yorum sayılarını yazdır\n",
    "print(\"Çok Yorum Alan Filmler ve Yorum Sayıları (Yorum Sayısına Göre Sıralı):\")\n",
    "print(common_movies_sorted.head())"
   ]
  },
  {
   "cell_type": "code",
   "execution_count": 14,
   "metadata": {},
   "outputs": [
    {
     "name": "stdout",
     "output_type": "stream",
     "text": [
      "Rare Movies ve Yorum Sayıları (Yorum Sayısına Göre Sıralı):\n",
      "                                  Title  Vote Count\n",
      "1146                Una película barata           0\n",
      "530                Joker: İkili Delilik           0\n",
      "1367                ドクターZERO 精神分析医・財前零子           0\n",
      "764               Mission: Impossible 8           0\n",
      "766                             Moana 2           0\n",
      "...                                 ...         ...\n",
      "388                               Float          96\n",
      "950                       Shadow Master          96\n",
      "35                   Air Force One Down          97\n",
      "94                        Avcının Kalbi          97\n",
      "770   Mortal Kombat Legends: Cage Match          99\n",
      "\n",
      "[384 rows x 2 columns]\n"
     ]
    }
   ],
   "source": [
    "# 1000'den az oy sayısına sahip filmleri belirle\n",
    "rare_movies = comment_counts[comment_counts['Vote Count'] <= 100]\n",
    "\n",
    "# Az yorum alan filmleri yorum sayısına göre sıralama\n",
    "rare_movies_sorted = rare_movies.sort_values(by='Vote Count')\n",
    "\n",
    "# Az yorum alan filmleri ve yorum sayılarını yazdır\n",
    "print(\"Rare Movies ve Yorum Sayıları (Yorum Sayısına Göre Sıralı):\")\n",
    "print(rare_movies_sorted)"
   ]
  },
  {
   "cell_type": "code",
   "execution_count": 15,
   "metadata": {},
   "outputs": [
    {
     "name": "stdout",
     "output_type": "stream",
     "text": [
      "Seçilen Kullanıcı ID: 1\n",
      "Kullanıcının İzlediği Filmler: ['Deadpool & Wolverine', 'Kasırgalar', 'Ters Yüz 2', 'Çılgın Hırsız 4', 'Bad Boys: Ya Hep Ya Hiç', 'Geber!', 'Sessiz Bir Yer: Birinci Gün', 'Alien: Romulus', 'Farang', 'Bizimle Başladı Bizimle Bitti', \"Bikini Kasabası'nı Kurtarmak: Sandy Cheeks Filmi\", 'Dragonkeeper', 'Prey', 'The Instigators', 'Garfield']\n",
      "Seçilen Kullanıcı ID: 2\n",
      "Kullanıcının İzlediği Filmler: ['Hız Peşinde', 'Furiosa: Bir Mad Max Destanı', 'The Convert', 'Maymunlar Cehennemi: Yeni Krallık', 'Paradox Effect', '還錢', '从21世纪安全撤离', \"Ga'a Hanedanı\", 'Thelma', \"Mickey Mouse'ın Tuzağı\", \"Yeni Nesil: Kızıl'ın Yükselişi\", 'Ev Ajanı', \"Beni Ay'a Uçur\", 'Gayribeyefendi Savaş Dairesi', 'Tuzak', 'Godzilla ve Kong: Yeni İmparatorluk', 'Justice League: Crisis on Infinite Earths Part Three', 'Çifte Pazarlık', 'Kung Fu Panda 4', 'Benim Hatam', 'Koralin ve Gizli Dünya', 'Un père idéal', 'Casusum: Ebedi Şehir', 'Deadpool', 'Yaratık', 'MaXXXine', 'İç Savaş']\n",
      "Seçilen Kullanıcı ID: 3\n",
      "Kullanıcının İzlediği Filmler: ['Alice in Terrorland', 'Yeni Nesil Ajan', 'Arınma', 'Mucizevi Paris: Gölge Böcek ve Kara Pençe', 'Şeytan Ayini', 'Ters Yüz', 'Johnny & Clyde', 'İkramiye!', 'BLUE LOCK THE FİLM -BÖLÜM NAGI', \"Paris'in Altında\", 'Avengers: Sonsuzluk Savaşı', '3 Days in Malay', 'Sosyete Polisi: Axel F', 'Out of Exile', 'Ördeklerin Göçü', 'Deadpool 2', 'Haz', 'Stranger in the Woods', 'The Marvels', '地底怪物', 'The King Tide', 'Deliver Us', 'Ziyaretçiler: Bölüm 1', 'The Jack in the Box: Rises', 'Dublör', 'Baba']\n",
      "Seçilen Kullanıcı ID: 4\n",
      "Kullanıcının İzlediği Filmler: ['Evrenler Savaşı', 'Zandalee', 'Hayali Arkadaşlar', 'Son Nefes', 'Onur Savaşı', 'Tarot', 'Los de la culpa', 'John Wick 4', 'Süper Mario Kardeşler', 'Birlik', '遊☆戯☆王', 'दंगे', 'Godzilla Minus One', 'Dilek', 'Şeytanla Bir Gece', 'Haydutlar 3: Çıkış Yok', 'Örümcek-Adam: Eve Dönüş Yok', 'Le Dernier Jaguar', 'Unang Tikim', 'Dune: Çöl Gezegeni Bölüm İki', 'Ölümsüz Aşk', 'Çılgın Cuma', '15 Cameras', 'Dead Sea', 'May the 12th Be With You', 'Süper Maymun Shimmy', '小虎墩大英雄', 'Örümcek-Adam: Örümcek-Evrenine Geçiş', 'Çıkış Yok', 'Madame Web', '肉体の門', 'Titanik', 'Avcı Kraven']\n",
      "Seçilen Kullanıcı ID: 5\n",
      "Kullanıcının İzlediği Filmler: ['V de Víctor', 'Maymun Adam', 'Atlas', '劇場版 SPY×FAMILY CODE: White', 'Casusluk Yapacak Zaman Yok: Bir Loud House Filmi', 'Gözcüler', 'Borderlands', 'Jurassic World: Hâkimiyet', 'Hızlı ve Öfkeli 10', 'Yaratığın Dönüşü', 'Yenilmezler', 'Moana 2', \"Bay Kleks'in Akademisi\", 'Tetikte', 'Baki Hanma VS Kengan Ashura', 'Black Noise', 'Janet Planet', 'Motorcular', 'Avengers: Endgame', 'The Last Kumite', 'La Riffa', 'MR-9: Do or Die', 'Terrifier 3']\n",
      "Seçilen Kullanıcı ID: 6\n",
      "Kullanıcının İzlediği Filmler: ['Harry Potter ve Felsefe Taşı', 'Gerçek Suç', 'Me contro Te: Il film - Vacanze in Transilvania', \"Freddy'nin Pizza Dükkanında Beş Gece\", 'Çocuk ve Balıkçıl', 'Avatar: Suyun Yolu', 'Çifte Tehlike', 'El candidato honesto', '劇場版ハイキュー!! ゴミ捨て場の決戦', 'Rebel Moon - Part Two: The Scargiver', 'Wonka', 'In a Violent Nature', 'Narnia Günlükleri: Aslan, Cadı ve Dolap', 'Dedektif Conan: Siyah Demir Denizaltı', 'Chief of Station', 'Bar Fedaisi', 'Beterböcek Beterböcek', 'Yedek Oyuncular', 'Kaçak', \"Baba, Sonsöz: Michael Corleone'nin Ölümü\", 'ヴァッサロード', 'Widow Clicquot', 'Omen: İlk Kehanet', 'Transformers: Canavarların Yükselişi', 'Cambaz', '일본 엄마', 'Esaretin Bedeli', 'Elemental: Doğanın Güçleri', \"Karayip Korsanları: Siyah İnci'nin Laneti\", 'Watchmen: Chapter I', 'Megamind vs. the Doom Syndicate', 'Horizon: An American Saga - Chapter 1', 'Yıldız Unicorn Thelma', 'Manyak', 'Son Resme Kadar', '青春ブタ野郎はランドセルガールの夢を見ない', 'Aslan Kral']\n",
      "Seçilen Kullanıcı ID: 7\n",
      "Kullanıcının İzlediği Filmler: ['Land of Bad', 'Ultraman: Rising', 'Yıldızlararası', 'L.E.T.H.A.L. Ladies: Return to Savage Beach', 'Demir Dev', 'Logan: Wolverine', 'Iron Man', 'Senden Önce Ben', 'K-9', 'Çizmeli Kedi: Son Dilek', 'Senden Başka', 'X-Men: Geçmiş Günler Gelecek', 'Sen İhtimali', '365 Gün: Bugün', 'Oppenheimer', 'Yem', 'La Familia del Barrio: La Película', 'Beterböcek', 'Savaş Vadisi', 'Mission: Impossible - Ölümcül Hesaplaşma Birinci Bölüm', 'Barbie', 'Tutsak Abigail', 'Hayalet Avcıları: Ürperti', 'Desperation Road', 'Justice League: Crisis on Infinite Earths Part One', 'Yas Tatili', 'Hayalimdeki Aşk', 'Labirent: Ölümcül Kaçış', 'Emmanuelle 6', 'Kara Şövalye', 'Cehennemden Daha Sıcak', 'Alienoid: Geleceğe Dönüş', 'Yenilmezler: Ultron Çağı', 'Ape vs Mecha Ape', 'Kızgın Güneş', 'Şrek', 'Cehennem Azabı', 'Goyo', '禁じられた遊び']\n",
      "Seçilen Kullanıcı ID: 8\n",
      "Kullanıcının İzlediği Filmler: ['Vidente Por Acidente', 'Battle Over Britain', 'Tehlikeli Kokteyl', '20th Century Girl', 'Prey', 'Shadow Master', 'Onaltıncı Raund', 'Koş Lola Koş', 'Yaratık: Covenant', 'Tılsım', 'Hanging Up', 'Denizci', 'Deadpool: No Good Deed', 'Snack Shack', 'Boneyard', 'Kusursuzlar', 'Koza', 'Kongo', 'Ölümsüzlerle Başa Çıkmak', 'Sessiz Bir Yer 2', 'Demon Slayer: Mugen Treni', 'Kaptan Amerika: Kahramanların Savaşı', 'Beterböcek Beterböcek', 'Wallace ve Gromit - Yanlış Pantolon', 'Salitan', 'Tepelerin Ardında', 'Breathe', '관계 : 특별한 형수 무삭제', 'Puslu Sınır', 'Bir Zamanlar Deadpool', 'Dalış', 'Galaksinin Koruyucuları 3', 'Gözyaşı Ustası', 'The Family Plan', 'Exhuma', 'Bad Boys: Her Zaman Çılgın', 'Göz Zevki', 'Zootropolis: Hayvanlar Şehri', 'Maymunlar Cehennemi: Şafak Vakti', 'Görünmeyen', 'Maymunlar Cehennemi: Şafak Vakti', 'Görünmeyen', 'The Flash', 'Vikings: Battle of Heirs', 'Grinin Elli Tonu', 'İçimizdeki Canavar', 'Justice League: Crisis on Infinite Earths Part Two']\n",
      "Seçilen Kullanıcı ID: 9\n",
      "Kullanıcının İzlediği Filmler: ['Beyaz Balina', 'Oyuncak Hikayesi', 'Coco', 'Özgürlüğün Elli Tonu', 'Love Lies Bleeding', 'Kalikot', 'Küçük Denizkızı', 'Biyonik', \"Schindler'in Listesi\", 'Karayip Korsanları: Gizemli Denizlerde', 'Kırmızı', 'Harry Potter ve Azkaban Tutsağı', 'Top Gun: Maverick', 'Korku Seansı', '白蛇：浮生', 'Spawn', 'Meg 2: Çukur', 'Yaratık 3', 'Iron Man 2', 'Dune: Çöl Gezegeni', 'Parachute', '6 Süper Kahraman', 'Dans la peau de Blanche Houellebecq', 'İnanılmaz Örümcek-Adam', 'Genç Deniz Canavarı Ruby', 'The Childe', 'Harry Potter ve Sırlar Odası', 'Av', 'After the Pandemic', 'Young Woman and the Sea', 'Catch-22', 'Mad Max: Fury Road', 'Padre no hay más que uno 4: Campanas de boda', 'Kuzenim Vinny', 'Karmakarışık', 'Venom: Son Dans', 'D-Tox', 'Doctor Strange Çoklu Evren Çılgınlığında', 'Yüzüklerin Efendisi: Yüzük Kardeşliği', 'Top Gunner: Tehlike Bölgesi', 'İntikam Yarışı', 'Karlar Ülkesi', '异兽战场', 'Troller Hep Beraber', 'Zavallılar', 'Leopar', 'Dragon Ball: Büyük Mistik Macera', 'Örümcek Adam: Örümcek Evreninde', 'Korku Seansı 2', '탈출: 프로젝트 사일런스', 'Hobbit: Beş Ordunun Savaşı', 'The Hunted', 'Açlık', 'Canceled', 'Halka 2']\n",
      "Seçilen Kullanıcı ID: 10\n",
      "Kullanıcının İzlediği Filmler: ['Aşka Atlamak', 'Winnie the Pooh: Kan ve Bal 2', 'Paw Patrol: Süper Film', \"The King's Man: Başlangıç\", 'Harry Potter ve Ateş Kadehi', 'Aliens vs Predator: Requiem', 'Aslan Kral', 'Acı', 'Damsel', 'Salvaje despertar', 'Sevimli Canavarlar', '딸의 친구 4', 'Aquaman ve Kayıp Krallık', 'Diriliş', 'Senin Hatan', 'Rebel Moon - Part One: A Child of Fire', 'Kutsal Motorlar', 'Blade Runner 2049: Bıçak Sırtı', 'X-Men: Apocalypse', 'Detective Knight: Independence', 'Thor', \"Minyonlar 2: Gru'nun Yükselişi\", 'Kurt', 'Avengers: Doomsday', 'Buz Devri', 'The Batman', 'Şrek: Sonsuza Dek Mutlu', 'Harry Potter ve Ölüm Yadigârları: Bölüm 2', 'Tanrıların Yaratılışı I: Fırtınalar Krallığı', '딸의 친구 5', \"Zack Snyder'ın Adalet Birliği\", 'Shazam! Tanrıların Öfkesi', 'Boy Kills World', 'Tabú', 'Paradies: Liebe', 'Ucuz Roman', 'Enkanto: Sihirli Dünya', 'Küçük Deniz Kızı', 'Il peccato di Lola', 'Blood and Snow', 'Taksi Şoförü', 'Arıcı: Ölüm Kovanı', 'Orion ve Karanlık', 'Bir Yerde', 'La familia Benetón', 'Prometheus', 'Mufasa: Aslan Kral', 'The Gangster, the Cop, the Devil', 'Darkness of Man', \"Charlie'nin Çikolata Fabrikası\", 'Ölü Gelin', 'Yukarı Bak', 'Ruhların Kaçışı']\n",
      "Seçilen Kullanıcı ID: 11\n",
      "Kullanıcının İzlediği Filmler: ['Penceremden 3: Göz Göze', 'Venom: Zehirli Öfke', 'Yıldız Savaşları: Yeni Umut', 'Geleceğe Dönüş', 'Avatar', 'Geleceğe Dönüş', 'Avatar', 'Üç Silahşörler: Milady', 'Slotherhouse', 'Arcadian', '마누라 바꿔먹기', 'Lost Souls', 'Am I OK?', 'Damaged', '劇場版「鬼滅の刃」無限城編', 'Init', 'Lilo ve Stiç', '鬼滅の刃 兄妹の絆', 'Yaratık: Diriliş', 'İnanılmaz Aile 2', 'La carne', 'Oyuncu', 'Oyuncak Hikayesi 2', 'İnanılmaz Örümcek-Adam 2', '我為卿狂', 'The Legend of Catclaws Mountain', 'Korku Seansı 3: Katil Şeytan', '名探偵コナン 100万ドルの五稜星（みちしるべ）', 'Erkek Jigolo', 'Kingsman: Gizli Servis', 'Benim Adım Loh Kiwan', 'Hit Man', 'Harry Potter ve Melez Prens', 'Tabu', 'เมอร์เด้อเหรอ ฆาตกรรมอิหยังวะ', 'Malditas', 'Sri Asih', 'Büyükler 2', \"Karayip Korsanları: Ölü Adam'ın Sandığı\", 'Para Avcısı', 'ミンナのウタ', 'Büyük İkramiye', 'Yeni Nesil 3', 'Venom: Zehirli Öfke 2', 'Kül Kedisi Sinderella', 'Kül Kedisi Sinderella', 'Thriller Gecesi', 'Thor: Aşk ve Gök Gürültüsü', 'The Inheritance', '노량: 죽음의 바다', 'İki Fıstık', 'Soysuzlar Çetesi', 'Takip 3: Son Karşılaşma', 'Harry Potter ve Zümrüdüanka Yoldaşlığı', 'Dehşetin Yüzü 2', 'Mucize: Uğur Böceği ile Kara Kedi, Film', 'Alis Harikalar Diyarında', 'ธี่หยด', \"Carl'ın Randevusu\", 'Kirpi Sonic 2', \"Baby Shark's Big Movie\", 'Harry Potter ve Ölüm Yadigârları: Bölüm 1', 'The Cult', 'Örümcek Adam', 'Black Lotus', '惊天救援', 'Sindirella', 'Dobermann', 'El Halcón: Sed de Venganza', 'Titane', 'Kaçık Astronot', 'Köpeklerin Aklından Neler Geçiyor?', 'New Life', 'Şaşkın İmparator', 'Kötü Kızlar', 'Northern Comfort', 'Şarkını Söyle 2', 'Maid in Sweden', '엄마친구', 'Örümcek-Adam: Eve Dönüş', 'Yüzüklerin Efendisi: Kralın Dönüşü', 'Tavuklar Firarda: Kurtarma Operasyonu', 'Napolyon', 'Shang-Chi ve On Halka Efsanesi', 'Luka', 'İyi Bir Dinozor', 'Daima Genç', 'Köpekbalığı Hikayesi', 'İyi, Kötü ve Çirkin', 'The OctoGames', 'Felekten Bir Gece', \"Coraline: The Making of 'Coraline'\", 'Açlık Oyunları: Kuşların ve Yılanların Şarkısı', 'Arthur the King', 'Örümcek-Adam: Evden Uzakta', 'Black Panther: Yaşasın Wakanda', 'Yedi', 'Yaratık', 'Malefiz', 'Bodrumdaki Kız', 'Yeni Nesil 2', 'Spitfire Over Berlin', 'Ağaçkakan Woody Yaz Kampında', 'Şrek 2', 'Rekabet', 'Adalet 3: Son', 'Cehennem Melekleri 4', 'A Chinese Torture Chamber Story', '金瓶風月', \"Mothers' Instinct\", 'Çılgın Hırsız 2', 'Meteor', 'Merhamet Hikayeleri', 'The Matrix', 'Justice League: Adalet Birliği', '365 Gün Daha', 'Konuş Benimle', 'Kasırga', 'Mulan', 'Tetikçi', 'Sıkı Dostlar', 'Quadrophenia', 'One Piece Film: Red', 'Mickey Yeni Yılı Kurtarıyor', 'Skal: Fight for Survival', 'Bir Aile Meselesi', 'Forrest Gump', 'Ant-Man', 'Wonderland', 'Hayali', 'Una película barata', \"New York'ta Bir Gece\", 'Second Best', 'Çöl Avcıları', 'Uproar', 'Çılgın İkili', 'Yüzüklerin Efendisi: İki Kule', 'Fury', 'Indiana Jones ve Kader Kadranı', 'Arabalar 3', 'Space Pups', 'Sessiz Bir Yer', 'The Thundermans Return', 'The Incredible Hulk', 'La voglia matta', 'Nişancı', 'Labirent  Son İsyan', 'Yatağımdaki Kız', 'Ratatuy', 'Mutt', 'Dudağının Altında', 'Örümcek Adam 3', 'Teklif', 'Kötü Ruh: Uyanış', 'Alacakaranlık Efsanesi: Şafak Vakti Bölüm 1', 'Yenilmez 4', 'Kaskasero', 'Adalet Peşinde', 'Golden Kamuy', 'Alacakaranlık Efsanesi: Şafak Vakti Bölüm 2', 'Leo', 'Not Defteri', 'İntikam Vakti', 'Vol.i', 'Adalet 2', 'Karayip Korsanları: Dünyanın Sonu', 'City Hunter', 'Kötü Kızlar', 'Yükseliş']\n",
      "Seçilen Kullanıcı ID: 12\n",
      "Kullanıcının İzlediği Filmler: ['Emmanuelle au 7ème ciel', 'Gunner', 'Uçuk Bir İş', 'Düşüş', 'Meleklerin Payı', 'Strictly Ballroom', 'Noche de Bodas', 'Only 3 Days Left', 'Yürüyen Şato', 'Madagaskar Penguenleri', 'Abigail', 'Karlar Ülkesi II', 'İlgi Alanı', 'İzciler Zombilere Karşı', 'Yeşil Yol', 'Aşk İçin Değer', 'Bugsy', 'Yaman Tilki', 'Bless the Child', 'Noel Gecesi Kabusu', 'Supernova', 'Katt Williams: Woke Foke', 'Adalet', 'Sinek 2', 'Avengers: Secret Wars', 'Güzel ve Çirkin', 'Vahşi Şeyler 2', 'Es por su bien', 'Jujutsu Kaisen 0', 'After: Her Şey', 'Şeytanla Anlaşma', 'Maymunlar Cehennemi: Savaş', 'Hayatı Emen Karanlık', 'Moana', 'Başlangıç', '아들의 여친 아빠의 여친', 'Garfield', 'Madagaskar 2', 'Rambo: Son Kan', 'Hulk', 'Oyuncak Hikayesi 3', 'Kayıp Balık Nemo', 'The Exorcism of God', 'Hızlı ve Öfkeli: Hobbs ve Shaw', 'Rebel Ridge', '杏林春暖', 'Truman Şov', 'Kod 8: 2. Kısım', 'After', 'Büyükler', 'Joker']\n",
      "Seçilen Kullanıcı ID: 13\n",
      "Kullanıcının İzlediği Filmler: ['Çılgın İkili 2', 'Avcının Kalbi', 'Şeytanın Düşmanı', 'Loraks', 'Testere', 'Leydi ile Sokak Köpeği', 'Blue Beetle', 'SüngerBob KarePantolon', 'Ejderhanı Nasıl Eğitirsin', 'Le Comte de Monte-Cristo', 'Raya ve Son Ejderha', 'The Suicide Squad: İntihar Timi', 'Iron Man 3', 'Parazit', 'Gran Turismo', 'Kingsman: Altın Çember', '새아빠와 모녀', 'Outsource', 'Real Gangsters', 'Riskli Oyun', 'Korku Kapanı 5: Kanlı Parti', 'Duyguların Rengi', 'Transformers: Kayıp Çağ', 'Uncharted', 'Alacakaranlık', 'Gerçek Kahraman', 'Çelik Yumruklar', 'Penceremden', 'Sıkıysa Yakala', 'X', 'Baba: Bölüm 2', 'Cruella', 'Kabus Gecesi 2', \"Notre Dame'ın Kamburu\", 'Yaralı Yüz', 'Kaçacak Yer Yok', 'Witchtrap', 'Η Μαύρη Εμμανουέλα', 'Bir Gece Ansızın', 'Kara Kule', 'Terrifier 2', 'Dragon Ball Super: Super Hero', 'Zindan Adası']\n",
      "Seçilen Kullanıcı ID: 14\n",
      "Kullanıcının İzlediği Filmler: ['Bedspacer', 'Q', 'Hoffa', 'İlk Yenilmez: Kaptan Amerika', 'Top Gun', '忠犬八公', 'Mussolini ile Çay', 'Mahzen', 'Ant-Man ve Wasp: Quantumania', 'Senin Adın', 'Çığlık 6', 'Kırmızı Fenerin Yükselişi', 'Apokalipto', '団鬼六 美教師地獄責め', 'Mavka: Ormanın Şarkısı', 'Hayalet Avcıları: Öteki Dünya', 'Gözlerini Kırp', 'Ejderhanı Nasıl Eğitirsin 3: Gizli Dünya', \"Nuh'un Gemisi\", 'X-Men: Dark Phoenix', '花と蛇\\u3000白衣縄奴隷', 'Batman ve Superman: Adaletin Şafağı', 'Vampiras: The Brides', 'Korku Kapanı 2: Ölüm Çıkmazı', 'டிமான்டி காலனி 2', 'Kayıp Kız', 'स्त्री २', 'Noel Gecesi Kabusu', 'Enigma', '田中瞳 爆乳Jの衝撃', 'Constantine', 'Aşka Yükseliş', 'O: Bölüm 2', 'TOGEFILM - Mei Mei', 'Dinozor', 'Televizyon Işıl Işıldı', \"Miller'ın Favorisi\", '約束のネバーランド', 'Jumanji: Yeni Seviye', 'Dede ve Çocuk', 'Drop Dead Fred', 'Toplum Zararlısı', 'Dolunay Katilleri', 'The Conjuring: Last Rites', 'Maymunlar Cehennemi: Başlangıç', 'Sonic the Hedgehog 3', 'Bıçağın İki Yüzü']\n",
      "Seçilen Kullanıcı ID: 15\n",
      "Kullanıcının İzlediği Filmler: ['Dünya Savaşı Z', 'Oyunbozan Ralph', 'Starve Acre', 'İtiraf: Bölüm 2', 'Luck', 'Durdurulamaz', \"Angela'nın Külleri\", 'Komik Tuzak', \"Tyler Perry'den Zorlu Boşanma\", 'Black Panther', 'Ninja Kaplumbağalar: Mutant Kargaşası', 'Ayı Kardeş', '맛있는 과외누나', 'Patron Bebek 2: Aile Şirketi', 'Anormal Aktivite 2', 'Thor: Ragnarok', 'Yaratıcı', 'Bir Yılda Yaşam', 'Watchmen', 'Beaten to Death', '60 Dakika', 'Hızlı ve Öfkeli 7', 'Percy Jackson & Olimposlular: Şimşek Hırsızı', 'Salak ile Avanak Geri Dönüyor', 'Antlaşma', 'Penceremden 2: Aramızdaki Deniz', 'Terminatör', \"Karayip Korsanları: Salazar'ın İntikamı\", 'Can Dostum', 'Paprika', 'Pamuk Prenses ve Yedi Cüceler', 'Batman Başlıyor', \"Yeni Nesil Ajan: Xander Cage'in Dönüşü\", 'Suikastçı', 'إبراهيم الأبيض', 'Greenland: Son Sığınak', 'Fantastik Dörtlü', \"Şeytan'ın Avukatı\", 'John Wick 2', 'Kung Fu Panda', 'Jurassic Park: Yeni Başlangıç', 'Vina: Sebelum 7 Hari', '僕のヒーローアカデミア ～オールマイト：ライジング～', 'Alacakaranlık Efsanesi: Yeni Ay', \"Aslan Kral 2: Simba'nın Onuru\", 'Jurassic World: Yıkılmış Krallık', 'Beşinci Güç', 'Casagrande Ailesi (Film)', 'O: Bölüm 1', 'Soul', 'Real Love', 'Godzilla II: Canavarlar Kralı', 'Unlikely Angel', 'The Five', 'Thriller 40', 'Başlat: Ready Player One']\n",
      "Seçilen Kullanıcı ID: 16\n",
      "Kullanıcının İzlediği Filmler: ['Ejder Birliği', 'Hayalet', 'Mulan', 'Ricky Stanicky', 'Creed III: Efsane Devam Ediyor', 'Hızlı ve Öfkeli 8', 'Mağara Adamı', 'Black Adam', '団鬼六\\u3000修道女縄地獄', 'Die Siebtelbauern', 'มนต์รักนักพากย์', 'Plunkett & MacLeane', 'Argylle: Gizli Casus', 'Kötülük Pusuda Olduğunda', 'Oyuncak Hikayesi 4', 'Kıyamet Melekleri', 'Ejderhanı Nasıl Eğitirsin 2', 'Transformers 5: Son Şövalye', 'Komşu Kızı', 'Komşu Kızı', 'Testere X', 'Kara Şövalye Yükseliyor', 'わたしの幸せな結婚', 'Blackest Darkness', 'Anahtar', 'Dogman', 'Uyuyan Güzel', 'İnanılmaz Aile', 'Dövüş Kulübü', 'Poolman', \"Fantastik Dörtlü: Gümüş Sörfçü'nün Yükselişi\", 'Gözü Kara', 'Açlık Oyunları: Alaycı Kuş Bölüm 1', '96 Saat', 'Destroy All Neighbors', 'Sherlock Holmes', 'Superman', 'Korkunç Bir Film', 'San Andreas Fayı', 'San Andreas Fayı', 'Gökteki Kale', 'Yasak Bölge 9', 'きみの声をとどけたい', 'Korku Kapanı 4: Kanlı Başlangıç', 'Hobbit: Beklenmedik Yolculuk', 'Gelinin Annesi', 'Wicked Little Letters', 'Arabalar 2', 'Triple Oh!', 'Aladdin', '火口のふたり', 'Buz Devri: Büyük Çarpışma', 'Terminatör 2: Mahşer Günü']\n",
      "Seçilen Kullanıcı ID: 17\n",
      "Kullanıcının İzlediği Filmler: ['Ghosted', 'Cheat', 'Ayı Teddy 2', 'Anaconda 2: Lanetli Orkidenin Peşinde', 'Black Widow', 'สลิธ โปรเจกต์ล่า', \"Tutku: Hz. İsa'nın Çilesi\", 'Alis Harikalar Diyarında: Aynanın İçinden', 'Zombi Ekspresi', 'Öğretmen', \"Ejder Topu Z: Bardock - goku ' nun Babası\", 'Herkül Özgürlük Savaşçısı', 'Şeytan Marka Giyer', 'Rita', 'Gladyatör', '가슴 큰 울 엄마', 'Star Wars: Son Jedi', 'Sound of Freedom', 'Evcil Hayvanların Gizli Yaşamı 2', 'Beyaz Şeytan', 'Rampage: Büyük Yıkım', 'Güzel ve Çirkin', 'After Paramparça', '맛있는 비행', 'Doctor Strange', 'Karateci Çocuk 3', 'Fargo', 'The Night They Came Home', 'PAW Patrol Filmi', 'Terrifier', 'Hocus Pocus', 'Godzilla vs. Kong', 'Karateci Çocuk', 'Aslan Kral 3', 'Malefiz: Kötülüğün Gücü', 'Heavenly Touch', 'Av 2', '映画クレヨンしんちゃん オラたちの恐竜日記', 'Korku Kapanı 3: Ölüme Terkediş', 'Eternals', 'Maymunlar Cehennemi', 'Prestij', '동창회의 목적', 'The Mighty Ducks', 'Ölümsüz Aşk', 'Labirent: Alev Deneyleri', 'Labirent: Alev Deneyleri', 'Parçalanmış', 'Ninja Kaplumbağalar']\n",
      "Seçilen Kullanıcı ID: 18\n",
      "Kullanıcının İzlediği Filmler: ['Dora: Say Hola to Adventure!', 'Kayıp Yüzük', 'ココロとカラダ', 'Korku Kapanı: Başlangıç', 'Private Romeo', 'Yarının Savaşı', '玉蒲团之极乐宝鉴', 'Terminatör: Genisys', 'Zamana Karşı', 'Mumya Dönüyor', 'Şey', 'Şapkalı Kedi', 'Arabalar', 'Keskin Nişancı', 'The Witch Part II: Diğeri', 'Suikast Treni', 'Güzel ve Çirkin: Sihirli Yılbaşı', 'コードギアス 亡国のアキト 第3章「輝くもの天より堕つ」', '一周的朋友', 'Fantastik Canavarlar Nelerdir, Nerede Bulunurlar?', 'Hvidsten gruppen', 'Truva', 'Son Moda Aşk', 'Mumya', 'Göz', 'Bu Nasıl Sarışın 2', 'Ölümlü Anılar', '偷窺無罪之誘人犯罪', 'Bilgisayar Korsanları', '4 Horsemen: Apocalypse', '돈의 맛', 'Dehşetin Yüzü', 'Whiplash', 'After: Mutluluk', '鴨王', 'Snoopy Presents: Welcome Home, Franklin', 'La memoria infinita', \"L'été dernier\", 'Float', 'Full Metal Jacket', '578: Phát Đạn Của Kẻ Điên', '獸性新人類', 'Love, Rosie', \"Robot Dostum: ARI'nın Maceraları\", 'Kung Fu Panda 2', 'Günaha Davet', 'Otomatik Portakal', 'Barbie and Stacie to the Rescue', \"Star Wars: Skywalker'ın Yükselişi\", '荆轲刺秦王', 'Çığlık', 'El Dorado Yolu', 'Sindirella II: Rüyalar Gerçek Oluyor', 'Acımasız', 'Gorevimiz Tehlike 5 - Haydut Ulus', 'Ölmek İçin Zaman Yok', 'Thabo - Das Nashornabenteuer', 'Ölümsüz', 'Acımasız', 'Gorevimiz Tehlike 5 - Haydut Ulus', 'Ölmek İçin Zaman Yok']\n",
      "Seçilen Kullanıcı ID: 19\n",
      "Kullanıcının İzlediği Filmler: ['Thabo - Das Nashornabenteuer', 'Ayı Teddy', 'Nuit #1', 'Princezna zakletá v čase 2', 'The Matrix Reloaded', 'Canavar', 'தங்கலான்', 'Drakula: Son Yolculuk', 'Slasher', 'Bitirim İkili 3', 'Bir İpte Üç Cambaz', 'Fancy Dance', 'Bob Marley: One Love', 'Sevginin Gücü', 'Spiral: Testere Devam Ediyor', 'Saldırı  / Attack - Part 1', 'One Punch', 'Bambaşka Bir Ülkede', \"Ayı Teddy'nin Maceraları\", 'Batman', 'Naruto Shippuuden:  Movie 1', 'Şrek Üç', 'Vahşi Robot', 'フェス・ゴジラ３ ガイガン来襲', 'E N V O Y', 'Annabelle 3', 'Creed II: Efsane Yükseliyor', 'Noche de Bodas', 'Titanların Savaşı', 'Il Paramedico', 'Patch Adams', 'Siyah Giyen Adamlar', 'Chappie', 'Mortal Kombat Legends: Cage Match', 'Açlık Oyunları: Ateşi Yakalamak', 'Mazlumlar', 'Açlık Oyunları: Ateşi Yakalamak', 'Mazlumlar', 'Asfaltın Kralları', 'Air Force One Down', 'Sevimli Aile Tatilde', 'Robot Düşleri', 'Garip Bir Aşk Öyküsü', 'Özel Bir Kadın', 'Doraemon', 'Kurye', 'Mad Max', '12 Öfkeli Adam', '足本玉蒲團', 'Black Clover: Sword of the Wizard King', 'Attack on Titan', 'Miss Fortune', 'De leerling', 'Package Deal', 'Muhteşem Yedili', 'Virgin Forest', 'Otopsi', 'Indiana Jones: Kutsal Hazine Avcıları', 'Kabus Gecesi: Diriliş', 'Tanrı Kent', 'Çocuk Oyunu']\n",
      "Seçilen Kullanıcı ID: 20\n",
      "Kullanıcının İzlediği Filmler: ['Hayatımın Tatili', 'Jaws', 'Madagaskar', 'Şarkını Söyle', 'Silence of the Prey', '50 İlk Öpücük', 'Kabuslar', 'Resident Evil: Raccoon Şehri', \"Alien Predator'a Karşı\", 'Mission: Impossible - Yansımalar', \"Neon Genesis Evangelion: Evangelion'un Sonu\", 'Süper Hızlı ve Çok Öfkeli', 'Three Day Millionaire', \"The Tiger's Apprentice\", 'Ex Machina', 'Ex Machina', 'Kurt Avı Projesi', 'Müzede Bir Gece: Lahitteki Sır', 'SüngerBob KarePantolon: Firarda', 'Sayen: La cazadora', 'Mükemmel Mavi', 'John Wick 3: Parabellum', 'Ben Efsaneyim', 'Pearl', 'Balkan Hattı', 'மகாராஜா', 'Sicario', 'Keçilerle Yaşam', \"Chroniques sexuelles d'une famille d'aujourd'hui\", 'Dehşete Dalış', \"Fantastik Canavarlar: Dumbledore'un Sırları\", 'Efsane Beşli', 'Exorcist: İnançlı', 'The Caller', 'John Rambo', '特區愛奴', 'The Farm', 'Crescent City', 'South Park: The End of Obesity', 'Patron Bebek: Noel Sürprizi', 'Narnia Günlükleri: Prens Kaspiyan', 'Kirpi Sonic', 'Karateci Çocuk', '맛있는 택배', 'Geliş', 'Kötü Ruh', 'Çizgili Pijamalı Çocuk', 'ワンピース エピソード オブ 空島', 'Şirinler', \"Crood'lar 2: Yeni Bir Çağ\", '孽欲追击档案之邪杀', 'Suzume', 'İki Aşık', 'Simpsonlar: Sinema Filmi', 'Gizemli Nehir', 'After Ayrılık', \"L'amica di mia madre\", 'Trail Street', 'Cennetin Krallığı', \"Er Ryan'ı Kurtarmak\", 'Femmine infernali', 'Şeref Bağı', 'The Masked Saint', 'Kung Fu Panda 3', 'Godzilla', 'Fare Şehri', 'Pasifik Savaşı', 'Red, White & Royal Blue', 'Özgür Ruh', 'Çılgın Aptal Aşk', 'Den grænseløse', 'Her Şey Her Yerde Aynı Anda', 'Şeytan Üçgeni', 'Dragon Ball GT: Bir Kahramanın Mirası', 'I viaggiatori', 'I viaggiatori', 'Crew', 'My Hero Academia: Heroes Rising']\n",
      "Seçilen Kullanıcı ID: 21\n",
      "Kullanıcının İzlediği Filmler: ['コードギアス 復活のルルーシュ', 'Orman Çocuğu', 'Şirinler: Yeni Yıl Şarkısı', 'కల్కి 2898-ఎ.డి', 'Kar Küreyici', 'Dumbo', 'Mon Clown', '핸섬가이즈', 'Pornô!', 'Kaptan Amerika: Kış Askeri', 'Batıda Kan Var', 'Gizli Sayılar', 'Canta y no llores', 'Babil', 'Extraction 2', 'Başka Bir Gençlik Filmi', 'Adaletin Eli', 'Rio', 'Snow Day', 'Kara Cuma', 'Mission: Impossible 8', 'O Filho do Homem', 'Kabus Gecesi 1: Sonsuz Dehşet', 'Mercy', 'Kuralsız', 'Son Emir: Cennetin Kapısı', 'Joker: İkili Delilik', 'La figliastra - Storia di corna e di passioni', 'Mükemmel Günler', 'Little Girl Blue', 'Kim Demiş Kötüyüz Diye?', \"Hobbit: Smaug'un Çorak Toprakları\", 'Star Wars: Güç Uyanıyor', 'Babil M.S.', 'Galaksinin Koruyucuları 2', '九龍城寨之圍城', 'Hayalî', '炎の中忍試験！ナルトvs木ノ葉丸！！', 'Stigmata', 'Copper Canyon', 'El Infierno', 'Köfte Yağmuru 2', \"Yetenekli Eller: Ben Carson'ın Öyküsü\", 'Piyanist', \"Hollywood Bowl'da Encanto\", 'Görevimiz Tehlike', 'Sensiz Olmaz', 'Hard Hit', 'Pokémon: İlk Film', 'Respire', 'Kelebek Etkisi', 'Maria', 'Unfinished Sky', 'Barbie: Prenses Okulu', 'Büyük Hesaplaşma', 'Thor: Karanlık Dünya', 'Megazeka', 'Birlikde Biz Purecua Savascilariyiz Maks Hart   /  Film  1 ./ Eiga Futari wa Precure Max Heart Movie 1', 'Blade: Trinity', 'Korkunç Bir Film 2', 'No One Will Save You', 'Flora and Son', 'Karanlığın Elli Tonu', 'Dragon Ball Z: Tanrıların Savaşı', 'Romantik Hırsız']\n",
      "Seçilen Kullanıcı ID: 22\n",
      "Kullanıcının İzlediği Filmler: ['İnsan Kırkayak 2', 'Monster High 2', 'Pocahontas', 'Kasabanın Namusu', 'Günah Şehri: Uğruna Öldürülecek Kadın', 'Good Boy', '형수의 성교육', 'No puedo vivir sin ti', 'Cehennem Melekleri', '30 Gün Gece', \"Marian'ın Maceraları\", 'Aşk ve Gurur', '劇場版 乙女ゲームの破滅フラグしかない悪役令嬢に転生してしまった…', 'Gözü Tamamen Kapalı', 'Arınma Gecesi: Sonsuza Dek', 'Gece Yüzüşü', 'Hunt Club', 'Alacakaranlık Efsanesi: Tutulma', 'Perché quelle strane gocce di sangue sul corpo di Jennifer?', 'Matilda', 'Yeşil Rehber', 'Testere 3D', 'Otel Transilvanya 3: Canavarlar Tatilde', 'Zodyak Şövalyeleri', '蛇の道', 'Kapan', 'سيما علي بابا', 'ドクターZERO 精神分析医・財前零子', 'My Oni Girl', 'Tinker Bell ve Canavar Efsanesi', '特种兵归来之绝地营救', 'Bagaj - Mahsur', 'Tinker Bell ve Canavar Efsanesi', '特种兵归来之绝地营救', 'Bagaj - Mahsur', 'Hayalet Sürücü', 'Orman Çocuğu', 'Cesur', '僕のヒーローアカデミア THE MOVIE ユアネクスト', 'Ölümsüz', \"Chucky'nin Tohumu\", 'Şeytan Kapanı', '热辣滚烫', 'Meg: Derinlerdeki Dehşet', \"Mumya: Ejder İmparatoru'nun Mezarı\", 'Sil Baştan', 'Bir Böceğin Yaşamı', 'Tutsak', 'Dragon Ball Z: Broly – The Legendary Super Saiyan', 'Hayalet Süvari', 'Back to Black', 'Dragon Ball Z: Wrath of the Dragon', 'Tatlı Bela', 'Srpski film', \"Madagaskar 3: Avrupa'nın En Çok Arananları\", \"Buz Devri: Buck Wild'ın Maceraları\", 'Lust och fägring stor', 'Bullet Train Down', 'Mission: Impossible - Ghost Protocol', 'Gülümse', 'Çılgın Çocuklar', 'Dune', 'Komando', 'Ayin', 'Tarzan', 'Tetikçi', 'Evde Tek Başına 2', 'Zincirsiz', 'Otel Transilvanya', 'Nefesini Tut 2', \"Chucky'nin Gelini\", 'Arınma Gecesi: Anarşi', 'Fear Filter', 'Bu Nasıl Sarışın', 'Peter Pan', '범죄도시 4', 'Kovboylar ve Uzaylılar', 'แสงกระสือ 2', 'Wonder Woman', 'Sicario: Day of the Soldado', '機動戦士ガンダムSEED FREEDOM', 'Zindanlar ve Ejderhalar: Hırsızlar Arasında Onur', 'Priscilla', 'หลานม่า', 'Asansör Oyunu', 'Hunters', 'Buz Devri 3: Dinozorların Şafağı', 'Sosis Partisi', 'Fantastik Dörtlü', 'Moana', 'Ölüm Yarışı', '成功補習班', '成功補習班', 'Aşkın (500) Günü', 'Ezra', 'Sisu', 'Komşum Totoro', 'Açlık Oyunları: Alaycı Kuş Bölüm 2']\n",
      "Seçilen Kullanıcı ID: 23\n",
      "Kullanıcının İzlediği Filmler: ['Pamuk Prenses', 'Elizabeth Taylor: Kayıp Kasetler', '变种人：幽灵战姬', 'Rocky', '聊齋花弄月', 'Batı Cephesinde Yeni Bir Şey Yok', 'The Matrix Resurrections', 'Ahmaklar', 'Mary ve Max', 'Kıyamet', 'La mesita del comedor', 'The Exorcism of Hannah Stevenson', 'Sailor Moon', 'Sinek', 'Şahane Hayat', '忍風戦隊ハリケンジャーでござる！シュシュッと20th Anniversary', 'Size de Çıkabilir', 'Kurtuluş Günü', 'Ölümcül Deney: Ölüm Adası', 'Guguk Kuşu', 'Cult Killer', 'Büyü de Gel', 'Korku Kapanı', '無力の王', 'The Matrix Revolutions', 'Son Durak', '순수의 시대', 'Bohemian Rhapsody', \"Pan'ın Labirenti\", 'Mezarına Tüküreceğim 2', 'Çığlık', 'Buz Devri 2: Erime Başlıyor', 'ยูเรนัส 2324', 'Aristokediler', 'Ralph ve İnternet', 'ネオ チンピラ 鉄砲玉ぴゅ～', 'Narnia Günlükleri: Şafak Yıldızının Yolculuğu', 'The Last: Naruto the Movie', 'Kod Adı: Angel', 'Alita: Savaş Meleği', 'Bungalow', 'Aşkı Ararken', 'Norbit', 'The Gentlemen', 'Proje X', 'Lager SSadis Kastrat Kommandantur', 'Maymunlar Cehennemine Dönüş', 'Kutudaki Kız', '동창회의 목적: 더 비기닝', 'Wonder Woman 1984', 'Keşke Otuz Olsam', 'Tinker Bell ve Korsan Peri', 'Sevimli Canavarlar Üniversitesi', 'E.T.', 'Keşke Otuz Olsam', 'Tinker Bell ve Korsan Peri', 'Sevimli Canavarlar Üniversitesi', 'E.T.']\n",
      "Seçilen Kullanıcı ID: 24\n",
      "Kullanıcının İzlediği Filmler: ['La via della prostituzione', 'Kupa Kızı', 'Creed: Efsanenin Doğuşu', 'Önemsiz Biri', 'Rio 2', 'Pomeriggio caldo', 'コードギアス 亡国のアキト 第1章「翼竜は舞い降りた」', '玉蒲團III官人我要', 'Get Real', 'Makas Eller', 'Berserk: The Golden Age Arc', '清宫性史1之无能皇帝', 'Hayalet Avcıları', 'Şrek 5', 'Dragon Ball Z: Broly – İkinci Geliş', 'Oz Büyücüsü', 'Nefesini Tut', 'Uri Gizli Operasyon', 'Predators', 'Teen Titans: Trouble in Tokyo', '不扣鈕的女孩', 'Sihirbazlar Çetesi', 'Rambo: İlk Kan 2', 'Annabelle: Kötülüğün Doğuşu', 'Karanlıklar Ülkesi', \"Yıldız Savaşları: Bölüm III - Sith'in İntikamı\", 'मुंज्या', '僕のヒーローアカデミア THE MOVIE ～2人の英雄～', 'Yanlış Kapı', 'Kill Bill: Vol. 1', 'Büyük Lebowski', 'SüngerBob KarePantolon: Suyu Süngerle Sil', 'Kurtarıcılar', 'Peşimdeki Şeytan', 'Ruhların Efsanesi', 'Korkunç Bir Film 4', \"KALI: L'ange de la Vengeance\", 'Silip', 'Dragon Ball Z Resurrection', 'Sahil Güvenlik', 'Jurassic World Kretase Kampı: Saklı Macera', 'Baraka', 'Kod Adı: Olympus', 'THE FIRST SLAM DUNK', 'Karateci Çocuk 2', 'Beni Adınla Çağır', 'Ruhlar Bölgesi: Kırmızı Kapı', 'Bir Dolar İçin Ölüm', 'コードギアス 反逆のルルーシュⅢ 皇道', 'Harold ve Mor Tebeşir', 'Terabithia Köprüsü', 'Asteriks ve Oburiks: Orta Krallık', 'Hizmetçi', 'Tron Efsanesi', \"Crood'lar\", 'Yenilmez 3', 'Sesin Şekli']\n",
      "Seçilen Kullanıcı ID: 25\n",
      "Kullanıcının İzlediği Filmler: ['Amerikan Pastası', 'Bitirim İkili', 'ウルトラマンゼロ THE MOVIE 超決戦！ベリアル銀河帝国', 'ROAD TO NINJA -NARUTO THE MOVIE-', 'Les Choses simples', \"Mesaj: Joan Arc'ın Hikâyesi\", 'Korku Kapanı 6: Son Çare', 'Sevdiğim Tüm Erkeklere', 'Jack Reacher: Asla Geri Dönme', 'Dünyalar Savaşı', 'Limit Yok', 'Hırsızlar Şehri', '가슴 큰 여자친구', 'Alvin ve Sincaplar', 'Con la zia non è peccato', 'Stajyer', 'Kelas Bintang - Salome', 'Bir Külkedisi Masalı', 'Slash/Back', 'Kod Adı: Londra', \"Bir Zamanlar… Hollywood'da\", 'Joe Black', 'Racketeer Rabbit', 'Maymunlar Cehenneminden Kaçış', 'Güvertede', 'Bebek Yüz', 'Addams Ailesi 2', 'Pixels', 'Снайпер. Білий ворон', 'Wild Eyed and Wicked', 'Kahramanlar Okulu', 'Malena', 'Captain Marvel', 'Die Hart', 'Mükemmel Uyum 2', '2001: Uzay Yolu Macerası', 'İtaatsizlik', 'Shaolin Futbolu', 'Ölümcül Makineler', 'Entre primas se arrima', '西廂艷譚', 'X-Men: The Mutant Watch']\n",
      "Seçilen Kullanıcı ID: 26\n",
      "Kullanıcının İzlediği Filmler: ['Yarının Savaşçıları', 'Winnie The Pooh: Kan ve Bal', 'Küçük Adam', 'Suicide Squad: Gerçek Kötüler', 'Triviaverse', 'Sonsuza Dek Karmakarışık', \"Bayan Peregrine'in Tuhaf Çocukları\", 'Karanlıklar Ülkesi: Kan Savaşları', 'Last Summer', 'Pinokyo', 'ამბავი სურამის ციხისა', 'Soredia', 'Predator', 'Aşk Güzel Şey', 'Şeytan', 'Yıldız Savaşları: Bölüm I - Gizli Tehlike', 'Craig Before the Creek', 'Eski Dostlar', 'Hell House LLC Origins: The Carmichael Manor', '28 Gün Sonra', \"13 Saat: Bingazi'nin Gizli Askerleri\", 'Hızlı ve Öfkeli 9', '젊은 엄마', 'إكس لارج', 'Kuralsızlar', 'Surcos', 'John Carter: İki Dünya Arasında', 'Lilo ve Stiç 2: Stiç Zor Durumda', 'Çizmeli Kedi', 'Bitirim İkili 2', 'Indiana Jones: Son Macera', 'Gangster No. 1', 'Galaksinin Koruyucuları', 'Karanlıklar Ülkesi: Uyanış', 'Maymun Kral: Yeniden Doğuş', 'The Winter Witch', 'Buffalo Kids', 'Hayatım Yalan', 'Görevimiz Tehlike III', 'Yedi Yaşam', 'Maymunlar Cehenneminde İsyan', 'Pasifik Savaşı: İsyan', '红楼梦之金玉良缘', 'Köy']\n",
      "Seçilen Kullanıcı ID: 27\n",
      "Kullanıcının İzlediği Filmler: ['जवान', 'How to Train Your Dragon: Homecoming', 'Hangover 3: Felekten Bir Gece', \"My Hero Academia: World Heroes' Mission\", 'Yeni Nesil Ajan 2', 'Buz Devri 4: Kıtalar Ayrılıyor', 'Günlük', 'Burga', 'On Emir', 'Şeytanın Oğlu Demon', 'Efsane', 'Gonjiam Perili İltica', 'Cehennem Melekleri 3', 'Cehennem Melekleri 3', 'Korkunç Bir Film 5', 'Arınma Gecesi: Seçim Yılı', 'Poltergeist: Kötü Ruh', 'Hotel Desire', '我的遗憾和你有关', 'Due Justice', 'Tam Gaz', 'La sirvienta', 'Talihsiz Serüvenler Dizisi', 'वेदा: संविधान के रक्षक', 'Saplantı', 'Barbarian', 'Matilda Müzikali', 'Liseli Polisler 2', 'Köstebek', 'Zamana Karşı', 'Siyah Giyen Adamlar 2', 'Americano', 'Tokyo Cowboy', 'Amerikan Büyülü Zenciler Biriği', 'Erkekler Ne Söyler Kadınlar Ne Anlar', 'Lucy', 'Strange Darling', 'Ayı Kardeş 2', 'Bumblebee', 'Gece Vurgunu', 'Yarının Sınırında', 'El duelo', 'Cesur Yürek', 'Kandahar', 'The Handbook', 'Temel İçgüdü', 'Le Somnambule', 'Zirvede', 'Karışık Aile', 'Teen Wolf: The Movie', 'Son Oyun', 'Geleceğe Dönüş II', 'Kar Kardeşliği', 'Kar Kardeşliği', 'Van Helsing', 'Kaçış Planı', 'Model by Day', 'Kod Adı: Kırmızı', 'コードギアス 反逆のルルーシュⅡ 叛道', 'Dragon Ball Z 5: Soğutucunun İntikamı', 'Akira', 'Kötülüğün Rengi: Kırmızı', 'Teksas Katliamı', \"Ocean's Eleven\"]\n",
      "Seçilen Kullanıcı ID: 28\n",
      "Kullanıcının İzlediği Filmler: ['마담 뺑덕', '8 Mil', 'الثلاثة يشتغلونها', 'Ölümcül Sır', 'Exodus: Tanrılar ve Krallar', 'One Life', 'Clean Freak', 'Birdman veya (Cahilliğin Umulmayan Erdemi)', 'Kral Arthur: Kılıç Efsanesi', 'Dünyanın Sonuna Doğru', 'Reggie', 'Indiana Jones ve Kristal Kafatası Krallığı', 'Hadi Gidelim', 'Bu Nasıl Aile!', 'Belalı Yumruklar', 'The 100 Candles Game: The Last Possession', '300 Spartalı', 'Straight Outta Compton', 'Mısır Tanrıları', 'Supermarsu 2', 'Kumarbaz', 'Posta Kutusu', 'Dostumun Yolculuğu', 'Suor Emanuelle', 'Warhorse One', 'Maske', 'Tilki ve Avcı Köpeği', 'Son Cadı Avcısı', 'コードギアス 反逆のルルーシュⅠ 興道', 'コードギアス 反逆のルルーシュⅠ 興道', 'Der heiße Tod', 'The Menu', 'Mefistofele', 'Uçak', 'The Wandering Earth II', 'Arınma Gecesi', 'Koç Carter', 'Dinamit Kardeşler', 'Çocuk Oyunu 2', 'TOKYO NOIR トウキョーノワール', 'Ferdinand', 'Takip: İstanbul', 'İlk Arınma Gecesi', 'Come Out Fighting', 'İnsan Kırkayak', 'Jurassic Triangle', 'Büyük Dövüş', 'Sıradan Melekler', 'In the Land of Saints and Sinners']\n"
     ]
    }
   ],
   "source": [
    "# Kullanıcı ID'lerini alma\n",
    "user_ids = df['UserId'].unique()\n",
    "\n",
    "# Her kullanıcı için filmleri listeleme\n",
    "for user_id in user_ids:\n",
    "    user_movies = df[df['UserId'] == user_id]\n",
    "    movies_watched = user_movies['Title'].tolist()\n",
    "    print(f\"Seçilen Kullanıcı ID: {user_id}\")\n",
    "    print(f\"Kullanıcının İzlediği Filmler: {movies_watched}\")"
   ]
  },
  {
   "cell_type": "code",
   "execution_count": 16,
   "metadata": {},
   "outputs": [
    {
     "name": "stdout",
     "output_type": "stream",
     "text": [
      "Rastgele Seçilen Kullanıcı ID: 5\n",
      "Kullanıcının İzlediği Filmler: ['V de Víctor', 'Maymun Adam', 'Atlas', '劇場版 SPY×FAMILY CODE: White', 'Casusluk Yapacak Zaman Yok: Bir Loud House Filmi', 'Gözcüler', 'Borderlands', 'Jurassic World: Hâkimiyet', 'Hızlı ve Öfkeli 10', 'Yaratığın Dönüşü', 'Yenilmezler', 'Moana 2', \"Bay Kleks'in Akademisi\", 'Tetikte', 'Baki Hanma VS Kengan Ashura', 'Black Noise', 'Janet Planet', 'Motorcular', 'Avengers: Endgame', 'The Last Kumite', 'La Riffa', 'MR-9: Do or Die', 'Terrifier 3']\n"
     ]
    },
    {
     "name": "stderr",
     "output_type": "stream",
     "text": [
      "C:\\Users\\ilayd\\AppData\\Local\\Temp\\ipykernel_19728\\2665131874.py:2: DeprecationWarning: Conversion of an array with ndim > 0 to a scalar is deprecated, and will error in future. Ensure you extract a single element from your array before performing this operation. (Deprecated NumPy 1.25.)\n",
      "  random_user = int(pd.Series(user_ids).sample(1).values)\n"
     ]
    }
   ],
   "source": [
    "# Rastgele bir kullanıcı ID'si seçme\n",
    "random_user = int(pd.Series(user_ids).sample(1).values)\n",
    "\n",
    "# Rastgele seçilen kullanıcının izlediği filmleri listeleme\n",
    "print(f\"Rastgele Seçilen Kullanıcı ID: {random_user}\")\n",
    "random_user_movies = df[df['UserId'] == random_user]['Title'].tolist()\n",
    "print(f\"Kullanıcının İzlediği Filmler: {random_user_movies}\")"
   ]
  },
  {
   "cell_type": "code",
   "execution_count": 17,
   "metadata": {},
   "outputs": [
    {
     "name": "stderr",
     "output_type": "stream",
     "text": [
      "C:\\Users\\ilayd\\AppData\\Local\\Temp\\ipykernel_19728\\3455519127.py:2: DeprecationWarning: Conversion of an array with ndim > 0 to a scalar is deprecated, and will error in future. Ensure you extract a single element from your array before performing this operation. (Deprecated NumPy 1.25.)\n",
      "  random_user = int(pd.Series(user_movie_df.index).sample(1).values)\n"
     ]
    },
    {
     "data": {
      "text/plain": [
       "['Die Hard (1988)',\n",
       " 'Forrest Gump (1994)',\n",
       " 'Fugitive, The (1993)',\n",
       " 'Ghost (1990)',\n",
       " 'Gladiator (2000)',\n",
       " 'Good Will Hunting (1997)',\n",
       " 'Goodfellas (1990)',\n",
       " 'Green Mile, The (1999)',\n",
       " 'Jurassic Park (1993)',\n",
       " 'Matrix, The (1999)',\n",
       " \"Schindler's List (1993)\",\n",
       " 'Shawshank Redemption, The (1994)',\n",
       " 'Silence of the Lambs, The (1991)',\n",
       " 'Sixth Sense, The (1999)',\n",
       " 'Sleepless in Seattle (1993)',\n",
       " 'Star Wars: Episode IV - A New Hope (1977)']"
      ]
     },
     "execution_count": 17,
     "metadata": {},
     "output_type": "execute_result"
    }
   ],
   "source": [
    "#Rastgele bir kullanıcının seçilmesi\n",
    "random_user = int(pd.Series(user_movie_df.index).sample(1).values)\n",
    "\n",
    "#Kullanıcının yakalanması\n",
    "random_user_df = user_movie_df[user_movie_df.index == random_user]\n",
    "\n",
    "#Kullanıcının izlediği filmlerin (NaN olmayan) yakalanması\n",
    "movies_watched = random_user_df.columns[random_user_df.notna().any()].tolist()\n",
    "\n",
    "movies_watched"
   ]
  },
  {
   "cell_type": "code",
   "execution_count": 18,
   "metadata": {},
   "outputs": [],
   "source": [
    "#DataFrame'in kullanıcının izlediği filmler ile filtrelenmesi\n",
    "movies_watched_df = user_movie_df[movies_watched]\n",
    "\n",
    "#Kullanıcıların bu filmlerden kaçını izlediği\n",
    "user_movie_count = movies_watched_df.T.notnull().sum()\n",
    "\n",
    "#Index resetleme\n",
    "user_movie_count = user_movie_count.reset_index()\n",
    "\n",
    "#Sütunları yeniden isimlendirmek\n",
    "user_movie_count.columns = [\"userId\", \"movie_count\"]"
   ]
  },
  {
   "cell_type": "code",
   "execution_count": 19,
   "metadata": {},
   "outputs": [
    {
     "data": {
      "text/plain": [
       "userId         8\n",
       "movie_count    8\n",
       "dtype: int64"
      ]
     },
     "execution_count": 19,
     "metadata": {},
     "output_type": "execute_result"
    }
   ],
   "source": [
    "#Kullanıcının izlediği bütün filmleri izleyen kullanıcı sayısı\n",
    "user_movie_count[user_movie_count[\"movie_count\"] == len(movies_watched)].count()"
   ]
  },
  {
   "cell_type": "code",
   "execution_count": 22,
   "metadata": {},
   "outputs": [],
   "source": [
    "#İzlediği film sayısının %60'ını bulmak\n",
    "perc = len(movies_watched) * 60 / 100\n",
    "\n",
    "#En az %60 oranında aynı filmi izleyen kullanıcıların id'sini yakalamak\n",
    "users_same_movies = user_movie_count[user_movie_count[\"movie_count\"] > perc][\"userId\"]"
   ]
  },
  {
   "cell_type": "code",
   "execution_count": 23,
   "metadata": {},
   "outputs": [],
   "source": [
    "#Kullanıcımız ve diğer kullanıcıların verilerini bir araya getirme\n",
    "final_df = pd.concat([movies_watched_df[movies_watched_df.index.isin(users_same_movies)], random_user_df[movies_watched]])"
   ]
  },
  {
   "cell_type": "code",
   "execution_count": 27,
   "metadata": {},
   "outputs": [
    {
     "name": "stdout",
     "output_type": "stream",
     "text": [
      "Vote Count    Vote Average    0.357697\n",
      "Popularity    ID              0.128070\n",
      "              Vote Average    0.039751\n",
      "              Vote Count     -0.049140\n",
      "UserId        Vote Average   -0.057734\n",
      "Vote Count    UserId         -0.060547\n",
      "UserId        ID             -0.211377\n",
      "Vote Average  ID             -0.240279\n",
      "Popularity    UserId         -0.362113\n",
      "Vote Count    ID             -0.490578\n",
      "dtype: float64\n"
     ]
    }
   ],
   "source": [
    "# Sadece sayısal sütunları seçin\n",
    "numeric_df = df.select_dtypes(include=['float64', 'int64'])\n",
    "\n",
    "# Korelasyon matrisini oluşturun\n",
    "corr_matrix = numeric_df.corr()\n",
    "\n",
    "# Korelasyon matrisini düzene sokup sıralama\n",
    "corr_df = corr_matrix.unstack().sort_values(ascending=False).drop_duplicates()\n",
    "\n",
    "# Yüksek korelasyon gösteren ilk 10 sonucu listeleyin\n",
    "high_corr = corr_df[corr_df < 1].head(10)\n",
    "\n",
    "print(high_corr)\n",
    "\n",
    "##Bu, oy sayısı ile oy ortalaması arasında orta dereceli bir pozitif ilişki olduğunu gösteriyor.Vote Count - Vote Average (0.357697)\n",
    "##Popularity - ID (0.128070): Popülerlik ve ID arasında zayıf bir pozitif ilişki var. Bu, ID numarası büyük olan filmlerin genellikle daha popüler olduğunu, ancak bu ilişkinin çok güçlü olmadığını gösteriyor.\n",
    "##Vote Count - UserId (-0.060547): Kullanıcı ID'si ile oy sayısı arasında çok zayıf bir negatif ilişki var. Bu, belirli kullanıcıların daha az oylama yaptığını gösterebilir.\n",
    "##Vote Count - ID (-0.490578): Oy sayısı ile film ID'si arasında orta dereceli bir negatif ilişki var. Bu, daha yeni filmlerin genellikle daha az oy aldığını gösterebilir."
   ]
  },
  {
   "cell_type": "code",
   "execution_count": 30,
   "metadata": {},
   "outputs": [
    {
     "name": "stdout",
     "output_type": "stream",
     "text": [
      "(5, 5)\n",
      "                    ID  Popularity  Vote Average  Vote Count    UserId\n",
      "ID            1.000000    0.128070     -0.240279   -0.490578 -0.211377\n",
      "Popularity    0.128070    1.000000      0.039751   -0.049140 -0.362113\n",
      "Vote Average -0.240279    0.039751      1.000000    0.357697 -0.057734\n",
      "Vote Count   -0.490578   -0.049140      0.357697    1.000000 -0.060547\n",
      "UserId       -0.211377   -0.362113     -0.057734   -0.060547  1.000000\n"
     ]
    }
   ],
   "source": [
    "#korelasyon matrisi\n",
    "print(corr_matrix.shape)\n",
    "print(corr_matrix.head())"
   ]
  },
  {
   "cell_type": "code",
   "execution_count": 39,
   "metadata": {},
   "outputs": [
    {
     "name": "stdout",
     "output_type": "stream",
     "text": [
      "Index([], dtype='object', name='title')\n",
      "Index([461], dtype='int64', name='userId')\n"
     ]
    }
   ],
   "source": [
    "# Sütun adlarının benzersiz olup olmadığını kontrol et\n",
    "print(final_df.columns[final_df.columns.duplicated()])\n",
    "\n",
    "# Satır adlarının benzersiz olup olmadığını kontrol et\n",
    "print(final_df.index[final_df.index.duplicated()])"
   ]
  },
  {
   "cell_type": "code",
   "execution_count": 40,
   "metadata": {},
   "outputs": [
    {
     "name": "stdout",
     "output_type": "stream",
     "text": [
      "Indexler: Index([  1,\n",
      "        17,\n",
      "        18,\n",
      "        28,\n",
      "        42,\n",
      "        45,\n",
      "        57,\n",
      "        62,\n",
      "        63,\n",
      "        64,\n",
      "        66,\n",
      "        68,\n",
      "        84,\n",
      "        91,\n",
      "       103,\n",
      "       105,\n",
      "       135,\n",
      "       140,\n",
      "       144,\n",
      "       156,\n",
      "       160,\n",
      "       166,\n",
      "       177,\n",
      "       182,\n",
      "       198,\n",
      "       199,\n",
      "       200,\n",
      "       202,\n",
      "       219,\n",
      "       220,\n",
      "       232,\n",
      "       239,\n",
      "       247,\n",
      "       249,\n",
      "       254,\n",
      "       263,\n",
      "       274,\n",
      "       275,\n",
      "       282,\n",
      "       288,\n",
      "       292,\n",
      "       304,\n",
      "       305,\n",
      "       307,\n",
      "       313,\n",
      "       317,\n",
      "       328,\n",
      "       330,\n",
      "       339,\n",
      "       352,\n",
      "       354,\n",
      "       357,\n",
      "       368,\n",
      "       380,\n",
      "       381,\n",
      "       385,\n",
      "       387,\n",
      "       391,\n",
      "       414,\n",
      "       415,\n",
      "       419,\n",
      "       425,\n",
      "       432,\n",
      "       434,\n",
      "       438,\n",
      "       448,\n",
      "       453,\n",
      "       461,\n",
      "       462,\n",
      "       464,\n",
      "       469,\n",
      "       474,\n",
      "       477,\n",
      "       480,\n",
      "       483,\n",
      "       489,\n",
      "       503,\n",
      "       514,\n",
      "       517,\n",
      "       525,\n",
      "       555,\n",
      "       561,\n",
      "       562,\n",
      "       570,\n",
      "       573,\n",
      "       580,\n",
      "       586,\n",
      "       590,\n",
      "       596,\n",
      "       599,\n",
      "       600,\n",
      "       603,\n",
      "       606,\n",
      "       607,\n",
      "       608,\n",
      "       610,\n",
      "       461],\n",
      "      dtype='int64', name='userId')\n",
      "Sütunlar: Index(['Die Hard (1988)',\n",
      "       'Forrest Gump (1994)',\n",
      "       'Fugitive, The (1993)',\n",
      "       'Ghost (1990)',\n",
      "       'Gladiator (2000)',\n",
      "       'Good Will Hunting (1997)',\n",
      "       'Goodfellas (1990)',\n",
      "       'Green Mile, The (1999)',\n",
      "       'Jurassic Park (1993)',\n",
      "       'Matrix, The (1999)',\n",
      "       'Schindler's List (1993)',\n",
      "       'Shawshank Redemption, The (1994)',\n",
      "       'Silence of the Lambs, The (1991)',\n",
      "       'Sixth Sense, The (1999)',\n",
      "       'Sleepless in Seattle (1993)',\n",
      "       'Star Wars: Episode IV - A New Hope (1977)'],\n",
      "      dtype='object', name='title')\n"
     ]
    }
   ],
   "source": [
    "print(\"Indexler:\", final_df.index)\n",
    "print(\"Sütunlar:\", final_df.columns)"
   ]
  },
  {
   "cell_type": "code",
   "execution_count": 41,
   "metadata": {},
   "outputs": [],
   "source": [
    "# Tekrarlanan satır indexlerini temizleme\n",
    "final_df = final_df.loc[~final_df.index.duplicated(keep='first')]"
   ]
  },
  {
   "cell_type": "code",
   "execution_count": 42,
   "metadata": {},
   "outputs": [
    {
     "name": "stdout",
     "output_type": "stream",
     "text": [
      "   user_id_1  user_id_2      corr\n",
      "0        610        352 -0.866081\n",
      "1        385         62 -0.852803\n",
      "2        275        247 -0.850279\n",
      "3        103        434 -0.849706\n",
      "4        434        415 -0.844145\n"
     ]
    }
   ],
   "source": [
    "# Korelasyon dataframe'inin oluşturulması\n",
    "corr_df = final_df.T.corr().stack().sort_values().drop_duplicates()\n",
    "\n",
    "# Sütun isimlendirmesi\n",
    "corr_df = pd.DataFrame(corr_df, columns=[\"corr\"])\n",
    "\n",
    "# Çift index var, index isimlendirilmesi\n",
    "corr_df.index.names = ['user_id_1', 'user_id_2']\n",
    "\n",
    "# Index resetlenmesi\n",
    "corr_df = corr_df.reset_index()\n",
    "\n",
    "# İlk birkaç satırı göster\n",
    "print(corr_df.head())"
   ]
  },
  {
   "cell_type": "code",
   "execution_count": 91,
   "metadata": {},
   "outputs": [
    {
     "name": "stdout",
     "output_type": "stream",
     "text": [
      "Rastgele seçilen kullanıcı ID'si: 17\n",
      "   userId      corr\n",
      "6     198  0.863868\n",
      "5     489  0.858395\n",
      "4     586  0.817424\n",
      "3     200  0.801324\n",
      "2     562  0.794719\n"
     ]
    }
   ],
   "source": [
    "# Kullanıcı ID'lerinin bulunduğu kolonun adı\n",
    "user_col = 'userId'\n",
    "\n",
    "# Örnek bir kullanıcı ID'si belirleyelim (örneğin rastgele seçelim)\n",
    "random_user = np.random.choice(corr_df['user_id_1'].unique())  # Korelasyon DataFrame'indeki mevcut kullanıcı ID'lerinden rastgele seçim\n",
    "\n",
    "# Belirli kullanıcı ile yüksek korelasyonlu diğer kullanıcıları bulma\n",
    "top_users = corr_df[(corr_df[\"user_id_1\"] == random_user) & (corr_df[\"corr\"] >= 0.65)][[\"user_id_2\", \"corr\"]].reset_index(drop=True)\n",
    "\n",
    "# Korelasyon df'inin sıralanması\n",
    "top_users = top_users.sort_values(by='corr', ascending=False)\n",
    "\n",
    "# Sütun ismi değiştirmek\n",
    "top_users.rename(columns={\"user_id_2\": \"userId\"}, inplace=True)\n",
    "\n",
    "print(f\"Rastgele seçilen kullanıcı ID'si: {random_user}\")\n",
    "print(top_users.head())"
   ]
  },
  {
   "cell_type": "code",
   "execution_count": 92,
   "metadata": {},
   "outputs": [
    {
     "name": "stdout",
     "output_type": "stream",
     "text": [
      "Önerilen Filmler:\n",
      "                                       title  rating\n",
      "679                      Jason Bourne (2016)    50.0\n",
      "390   Dracula (Bram Stoker's Dracula) (1992)    50.0\n",
      "872               Monsters University (2013)    50.0\n",
      "406                       Dying Young (1991)    50.0\n",
      "1306                    The Boss Baby (2017)    50.0\n"
     ]
    }
   ],
   "source": [
    "# Kullanıcıların film puanlarını içeren DataFrame'i filtreleme\n",
    "recommended_movies = sorted_df[sorted_df['userId'].isin(top_users['userId'])]\n",
    "\n",
    "# Her filmin ortalama puanını hesaplama\n",
    "movie_recommendations = recommended_movies.groupby('title').agg({'rating': 'mean'}).reset_index()\n",
    "\n",
    "# Filmleri yüksek puanlara göre sıralama\n",
    "movie_recommendations = movie_recommendations.sort_values(by='rating', ascending=False)\n",
    "\n",
    "print(\"Önerilen Filmler:\")\n",
    "print(movie_recommendations.head())"
   ]
  }
 ],
 "metadata": {
  "kernelspec": {
   "display_name": "Python 3",
   "language": "python",
   "name": "python3"
  },
  "language_info": {
   "codemirror_mode": {
    "name": "ipython",
    "version": 3
   },
   "file_extension": ".py",
   "mimetype": "text/x-python",
   "name": "python",
   "nbconvert_exporter": "python",
   "pygments_lexer": "ipython3",
   "version": "3.12.5"
  }
 },
 "nbformat": 4,
 "nbformat_minor": 2
}
